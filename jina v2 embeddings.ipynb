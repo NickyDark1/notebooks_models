{
 "cells": [
  {
   "cell_type": "code",
   "execution_count": 1,
   "id": "fce500c9",
   "metadata": {},
   "outputs": [
    {
     "name": "stdout",
     "output_type": "stream",
     "text": [
      " Thank you for asking! The sky appears blue because of the way light scatters in the Earth's atmosphere. When sunlight enters the atmosphere, it encounters tiny molecules of gases such as nitrogen and oxygen. These molecules absorb and scatter the light in all directions, but they scatter shorter (blue) wavelengths more than longer (red) wavelengths. This is known as Rayleigh scattering.\n",
      "\n",
      "As a result of this scattering, the blue light is dispersed throughout the atmosphere, giving the sky its characteristic blue color. The exact shade of blue can vary depending on the time of day and the amount of dust and pollutants in the air, but the basic principle of Rayleigh scattering explains why the sky appears blue to our eyes.\n",
      "\n",
      "It's worth noting that the sky can appear different colors under different conditions. For example, during sunrise and sunset, the sky can take on hues of red, orange, and pink due to the angle of the sunlight and the scattering of light by atmospheric particles. Additionally, pollution and dust can also affect the color of the sky, making it appear more hazy or yellowish.\n",
      "\n",
      "I hope that helps clarify things! If you have any further questions, feel free to ask!\n"
     ]
    }
   ],
   "source": [
    "from langchain.llms import Ollama\n",
    "ollama = Ollama(base_url='http://localhost:11434', model=\"llama2:latest\")\n",
    "print(ollama(\"why is the sky blue\"))"
   ]
  },
  {
   "cell_type": "code",
   "execution_count": 2,
   "id": "952221f9",
   "metadata": {},
   "outputs": [],
   "source": [
    "from langchain.document_loaders import WebBaseLoader\n",
    "loader = WebBaseLoader(\"https://www.gutenberg.org/files/1727/1727-h/1727-h.htm\")\n",
    "data = loader.load()"
   ]
  },
  {
   "cell_type": "code",
   "execution_count": 3,
   "id": "a713899f",
   "metadata": {},
   "outputs": [],
   "source": [
    "from transformers import AutoModel\n",
    "from numpy.linalg import norm"
   ]
  },
  {
   "cell_type": "code",
   "execution_count": 4,
   "id": "eb27283a",
   "metadata": {},
   "outputs": [
    {
     "name": "stdout",
     "output_type": "stream",
     "text": [
      "The repository for /Users/pradeep.borado/.cache/torch/sentence_transformers/jinaai_jina-embeddings-v2-base-en/ contains custom code which must be executed to correctlyload the model. You can inspect the repository content at https://hf.co//Users/pradeep.borado/.cache/torch/sentence_transformers/jinaai_jina-embeddings-v2-base-en/.\n",
      "You can avoid this prompt in future by passing the argument `trust_remote_code=True`.\n",
      "\n",
      "Do you wish to run the custom code? [y/N] y\n"
     ]
    },
    {
     "name": "stderr",
     "output_type": "stream",
     "text": [
      "Loading the tokenizer from the `special_tokens_map.json` and the `added_tokens.json` will be removed in `transformers 5`,  it is kept for forward compatibility, but it is recommended to update your `tokenizer_config.json` by uploading it again. You will see the new `added_tokens_decoder` attribute that will store the relevant information.\n"
     ]
    }
   ],
   "source": [
    "from langchain.embeddings import HuggingFaceEmbeddings\n",
    "modelPath = \"jinaai/jina-embeddings-v2-base-en\"\n",
    "\n",
    "encode_kwargs = {'normalize_embeddings': True}\n",
    "model_kwargs = {'device':'cpu'}\n",
    "\n",
    "# Initialize an instance of HuggingFaceEmbeddings with the specified parameters\n",
    "embeddings_model = HuggingFaceEmbeddings(\n",
    "    model_name=modelPath,     # Provide the pre-trained model's path\n",
    "    model_kwargs=model_kwargs, # Pass the model configuration options\n",
    "    encode_kwargs=encode_kwargs # Pass the encoding options\n",
    ")"
   ]
  },
  {
   "cell_type": "code",
   "execution_count": 5,
   "id": "f8d32ec7",
   "metadata": {},
   "outputs": [],
   "source": [
    "from langchain.text_splitter import RecursiveCharacterTextSplitter\n",
    "\n",
    "text_splitter=RecursiveCharacterTextSplitter(chunk_size=1000, chunk_overlap=200)\n",
    "all_splits = text_splitter.split_documents(data)"
   ]
  },
  {
   "cell_type": "code",
   "execution_count": 6,
   "id": "8638502d",
   "metadata": {},
   "outputs": [],
   "source": [
    "from langchain.vectorstores import Chroma\n",
    "\n",
    "Chroma().delete_collection()\n",
    "vectorstore = Chroma.from_documents(documents=all_splits, embedding=embeddings_model)"
   ]
  },
  {
   "cell_type": "code",
   "execution_count": 10,
   "id": "4f4f9cec",
   "metadata": {},
   "outputs": [
    {
     "data": {
      "text/plain": [
       "{'query': \"Who is Neleus and who is in Neleus' family?\",\n",
       " 'result': ' Based on the provided context, Neleus is a character in Homer\\'s \"Odyssey\" who is mentioned as the husband of Arete and the father of Chloris, Periclymenus, and Pero. According to the text, Neleus descends from Eurymedon, who was a king and the ancestor of Neleus. However, Neleus himself is not a king, but rather a guardian of the public weal in Pylos.\\n\\nIn Neleus\\' family, there are several members mentioned in the context:\\n\\n* Arete: Neleus\\' wife and the mother of Chloris, Periclymenus, and Pero.\\n* Chloris: The youngest daughter of Amphion and the wife of Neleus.\\n* Periclymenus: The son of Neleus and Arete.\\n* Pero: The marvelously lovely woman who was wooed by all the country round, but Neleus would only give her to him who should raid the cattle of Iphicles from the grazing grounds of Phylace.\\n* Amphitryon: The husband of Alcmena and the father of Hercules.\\n* Cretheus: The father of Aeson, Pheres, and Amythaon.\\n* Asopus: The father of Antiope.\\n* King Creon: The father of Megara.\\n\\nIt is important to note that some of these characters may have multiple names or roles in different interpretations of the Odyssey.'}"
      ]
     },
     "execution_count": 10,
     "metadata": {},
     "output_type": "execute_result"
    }
   ],
   "source": [
    "from langchain.chains import RetrievalQA\n",
    "qachain=RetrievalQA.from_chain_type(ollama, retriever=vectorstore.as_retriever())\n",
    "qachain({\"query\": question})"
   ]
  },
  {
   "cell_type": "code",
   "execution_count": 11,
   "id": "d052130b",
   "metadata": {},
   "outputs": [
    {
     "data": {
      "text/plain": [
       "{'query': 'Why does Telemachus go to Pylos and Sparta?',\n",
       " 'result': ' Telemachus goes to Pylos and Sparta in search of help to defeat the suitors who are trying to take over his kingdom and marry his mother, Penelope. He is unable to eat in peace or take pleasure with the men in Argos due to their past actions, so he decides to seek assistance from other places. Telemachus believes that going to Pylos and Sparta will help him gather friends and allies to aid him in his quest to protect his kingdom and his mother.'}"
      ]
     },
     "execution_count": 11,
     "metadata": {},
     "output_type": "execute_result"
    }
   ],
   "source": [
    "question='Why does Telemachus go to Pylos and Sparta?'\n",
    "qachain({\"query\": question})"
   ]
  },
  {
   "cell_type": "code",
   "execution_count": 12,
   "id": "b2a8379b",
   "metadata": {},
   "outputs": [
    {
     "data": {
      "text/plain": [
       "{'query': 'Why does Odysseus travel to Hades?',\n",
       " 'result': ' According to the passage, Odysseus travels to Hades to consult the ghost of the blind Theban prophet Teiresias. The goddess Calypso tells him that he must go to the house of Hades and of dread Proserpine to consult the ghost of Teiresias, whose reason is still unshaken, even in death. It seems that Teiresias holds some important information or wisdom that can help Odysseus on his journey home.'}"
      ]
     },
     "execution_count": 12,
     "metadata": {},
     "output_type": "execute_result"
    }
   ],
   "source": [
    "question='Why does Odysseus travel to Hades?'\n",
    "qachain({\"query\": question})"
   ]
  },
  {
   "cell_type": "code",
   "execution_count": null,
   "id": "48916262",
   "metadata": {},
   "outputs": [],
   "source": []
  }
 ],
 "metadata": {
  "kernelspec": {
   "display_name": "cv",
   "language": "python",
   "name": "cv"
  },
  "language_info": {
   "codemirror_mode": {
    "name": "ipython",
    "version": 3
   },
   "file_extension": ".py",
   "mimetype": "text/x-python",
   "name": "python",
   "nbconvert_exporter": "python",
   "pygments_lexer": "ipython3",
   "version": "3.11.0"
  }
 },
 "nbformat": 4,
 "nbformat_minor": 5
}
