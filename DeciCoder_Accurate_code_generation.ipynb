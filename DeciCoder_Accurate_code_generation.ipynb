{
  "nbformat": 4,
  "nbformat_minor": 0,
  "metadata": {
    "colab": {
      "provenance": [],
      "gpuType": "T4",
      "authorship_tag": "ABX9TyOGSROFHVMJbFLDSEok49ya",
      "include_colab_link": true
    },
    "kernelspec": {
      "name": "python3",
      "display_name": "Python 3"
    },
    "language_info": {
      "name": "python"
    },
    "accelerator": "GPU"
  },
  "cells": [
    {
      "cell_type": "markdown",
      "metadata": {
        "id": "view-in-github",
        "colab_type": "text"
      },
      "source": [
        "<a href=\"https://colab.research.google.com/github/githubpradeep/notebooks/blob/main/DeciCoder_Accurate_code_generation.ipynb\" target=\"_parent\"><img src=\"https://colab.research.google.com/assets/colab-badge.svg\" alt=\"Open In Colab\"/></a>"
      ]
    },
    {
      "cell_type": "code",
      "execution_count": null,
      "metadata": {
        "id": "9RBuIBcHBLeR"
      },
      "outputs": [],
      "source": [
        "!pip install transformers sentencepiece accelerate einops\n",
        "# pip install -q transformers\n",
        "from transformers import AutoModelForCausalLM, AutoTokenizer\n",
        "\n",
        "checkpoint = \"Deci/DeciCoder-1b\"\n",
        "device = \"cuda\" # for GPU usage or \"cpu\" for CPU usage\n",
        "\n",
        "tokenizer = AutoTokenizer.from_pretrained(checkpoint)\n",
        "model = AutoModelForCausalLM.from_pretrained(checkpoint, trust_remote_code=True).to(device)\n"
      ]
    },
    {
      "cell_type": "code",
      "source": [
        "inputs = tokenizer.encode(\"def print_hello_world():\", return_tensors=\"pt\").to(device)\n",
        "outputs = model.generate(inputs=inputs, max_new_tokens=100)\n",
        "print(tokenizer.decode(outputs[0]))"
      ],
      "metadata": {
        "colab": {
          "base_uri": "https://localhost:8080/"
        },
        "id": "C1_nwxNkBgtQ",
        "outputId": "63b5c6a5-82ab-4123-fb81-72972781ac47"
      },
      "execution_count": 2,
      "outputs": [
        {
          "output_type": "stream",
          "name": "stdout",
          "text": [
            "def print_hello_world():\n",
            "    print(\"Hello World!\")\n",
            "\n",
            "\n",
            "def print_hello_world_with_name(name):\n",
            "    print(\"Hello \" + name + \"!\")\n",
            "\n",
            "\n",
            "def print_hello_world_with_name_and_age(name, age):\n",
            "    print(\"Hello \" + name + \" \" + str(age) + \"!\")\n",
            "\n",
            "\n",
            "def print_hello_world_with_name_and_age_and_city(name, age, city):\n",
            "    print(\"\n"
          ]
        }
      ]
    },
    {
      "cell_type": "code",
      "source": [
        "inputs = tokenizer.encode(\"def find_prime_number():\", return_tensors=\"pt\").to(device)\n",
        "outputs = model.generate(inputs=inputs, max_new_tokens=100)\n",
        "print(tokenizer.decode(outputs[0]))"
      ],
      "metadata": {
        "colab": {
          "base_uri": "https://localhost:8080/"
        },
        "id": "Lumm0kxUCRX-",
        "outputId": "52766a62-bcd3-4ee1-e9cb-69f704cc7605"
      },
      "execution_count": 3,
      "outputs": [
        {
          "output_type": "stream",
          "name": "stdout",
          "text": [
            "def find_prime_number():\n",
            "    \"\"\"\n",
            "    Find the prime number in the range 2 to 1000000\n",
            "    \"\"\"\n",
            "    for i in range(2, 1000000):\n",
            "        if is_prime(i):\n",
            "            print(i)\n",
            "\n",
            "\n",
            "if __name__ == \"__main__\":\n",
            "    find_prime_number()\n",
            "<|endoftext|>\n"
          ]
        }
      ]
    },
    {
      "cell_type": "code",
      "source": [
        "inputs = tokenizer.encode(\"#Find the prime number from 1 to 100\", return_tensors=\"pt\").to(device)\n",
        "outputs = model.generate(inputs=inputs, max_new_tokens=100)\n",
        "print(tokenizer.decode(outputs[0]))"
      ],
      "metadata": {
        "colab": {
          "base_uri": "https://localhost:8080/"
        },
        "id": "Mxpgyd6yCVOB",
        "outputId": "e88aeccc-3f76-4811-c871-df7499043dab"
      },
      "execution_count": 4,
      "outputs": [
        {
          "output_type": "stream",
          "name": "stdout",
          "text": [
            "#Find the prime number from 1 to 1000\n",
            "def find_prime(n):\n",
            "    for i in range(2,n):\n",
            "        if n%i==0:\n",
            "            return False\n",
            "    return True\n",
            "\n",
            "#Find the prime number from 1 to 1000\n",
            "def find_prime_2(n):\n",
            "    for i in range(2,n):\n",
            "        if n%i==0:\n",
            "            return False\n",
            "    return True\n",
            "\n",
            "#Find the prime number from 1 to 1000\n",
            "\n"
          ]
        }
      ]
    },
    {
      "cell_type": "code",
      "source": [
        "inputs = tokenizer.encode(\"#calculate average of an array\", return_tensors=\"pt\").to(device)\n",
        "outputs = model.generate(inputs=inputs, max_new_tokens=100)\n",
        "print(tokenizer.decode(outputs[0]))"
      ],
      "metadata": {
        "colab": {
          "base_uri": "https://localhost:8080/"
        },
        "id": "a8g4boP8CcnH",
        "outputId": "aa2eed54-c737-4baa-be04-cad49b04b57c"
      },
      "execution_count": 6,
      "outputs": [
        {
          "output_type": "stream",
          "name": "stdout",
          "text": [
            "#calculate average of an array of numbers\n",
            "def average(arr):\n",
            "    sum = 0\n",
            "    for i in arr:\n",
            "        sum += i\n",
            "    return sum/len(arr)\n",
            "\n",
            "#calculate median of an array of numbers\n",
            "def median(arr):\n",
            "    arr.sort()\n",
            "    if len(arr)%2 == 0:\n",
            "        return (arr[len(arr)//2] + arr[len(arr)//2-1])/2\n",
            "    else:\n",
            "        return arr[len(arr)//2]\n",
            "\n"
          ]
        }
      ]
    },
    {
      "cell_type": "code",
      "source": [
        "inputs = tokenizer.encode(\"#calculate softmax of an array\", return_tensors=\"pt\").to(device)\n",
        "outputs = model.generate(inputs=inputs, max_new_tokens=100)\n",
        "print(tokenizer.decode(outputs[0]))"
      ],
      "metadata": {
        "colab": {
          "base_uri": "https://localhost:8080/"
        },
        "id": "gPDkuPJyCzV-",
        "outputId": "01214c10-17ca-4863-dfe7-c9e911e204d2"
      },
      "execution_count": 7,
      "outputs": [
        {
          "output_type": "stream",
          "name": "stdout",
          "text": [
            "#calculate softmax of an array\n",
            "def softmax(x):\n",
            "    return np.exp(x)/np.sum(np.exp(x))\n",
            "\n",
            "#calculate the cross entropy loss\n",
            "def cross_entropy_loss(y, y_hat):\n",
            "    return -np.sum(y*np.log(y_hat))\n",
            "\n",
            "#calculate the mean squared error loss\n",
            "def mean_squared_error_loss(y, y_hat):\n",
            "    return np.sum((y-y_hat\n"
          ]
        }
      ]
    },
    {
      "cell_type": "code",
      "source": [
        "inputs = tokenizer.encode(\"#fibonacci series\", return_tensors=\"pt\").to(device)\n",
        "outputs = model.generate(inputs=inputs, max_new_tokens=100)\n",
        "print(tokenizer.decode(outputs[0]))"
      ],
      "metadata": {
        "colab": {
          "base_uri": "https://localhost:8080/"
        },
        "id": "tTSKdjs_C80g",
        "outputId": "9526b8b5-47d6-4fb0-9076-3e63e67a290e"
      },
      "execution_count": 8,
      "outputs": [
        {
          "output_type": "stream",
          "name": "stdout",
          "text": [
            "#fibonacci series\n",
            "\n",
            "def fibonacci(n):\n",
            "    if n == 0:\n",
            "        return 0\n",
            "    elif n == 1:\n",
            "        return 1\n",
            "    else:\n",
            "        return fibonacci(n-1) + fibonacci(n-2)\n",
            "\n",
            "print(fibonacci(10))\n",
            "<|endoftext|>\n"
          ]
        }
      ]
    },
    {
      "cell_type": "code",
      "source": [
        "inputs = tokenizer.encode(\"#requests to download image\", return_tensors=\"pt\").to(device)\n",
        "outputs = model.generate(inputs=inputs, max_new_tokens=100)\n",
        "print(tokenizer.decode(outputs[0]))"
      ],
      "metadata": {
        "colab": {
          "base_uri": "https://localhost:8080/"
        },
        "id": "vQc-euuwDGpd",
        "outputId": "c842ed59-abbf-438d-cb03-f63e0fa533ea"
      },
      "execution_count": 10,
      "outputs": [
        {
          "output_type": "stream",
          "name": "stdout",
          "text": [
            "#requests to download image from url\n",
            "def download_image(url):\n",
            "    try:\n",
            "        response = requests.get(url, stream=True)\n",
            "        if response.status_code == 200:\n",
            "            with open(f'{url.split(\"/\")[-1]}', 'wb') as out_file:\n",
            "                shutil.copyfileobj(response.raw, out_file)\n",
            "            return True\n",
            "        else:\n",
            "            return False\n",
            "    except Exception as e:\n",
            "        print(e)\n",
            "        return False\n",
            "\n"
          ]
        }
      ]
    },
    {
      "cell_type": "code",
      "source": [],
      "metadata": {
        "id": "QHDNLVDADPp2"
      },
      "execution_count": null,
      "outputs": []
    }
  ]
}