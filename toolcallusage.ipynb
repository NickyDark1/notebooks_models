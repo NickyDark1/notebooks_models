{
 "cells": [
  {
   "cell_type": "code",
   "execution_count": 2,
   "id": "babd0bf8-7d40-4471-b67c-eff6d62461bd",
   "metadata": {},
   "outputs": [
    {
     "name": "stdout",
     "output_type": "stream",
     "text": [
      "Collecting openai\n",
      "  Downloading openai-1.12.0-py3-none-any.whl.metadata (18 kB)\n",
      "Requirement already satisfied: anyio<5,>=3.5.0 in /opt/conda/lib/python3.10/site-packages (from openai) (4.2.0)\n",
      "Requirement already satisfied: distro<2,>=1.7.0 in /opt/conda/lib/python3.10/site-packages (from openai) (1.8.0)\n",
      "Requirement already satisfied: httpx<1,>=0.23.0 in /opt/conda/lib/python3.10/site-packages (from openai) (0.26.0)\n",
      "Requirement already satisfied: pydantic<3,>=1.9.0 in /opt/conda/lib/python3.10/site-packages (from openai) (2.6.1)\n",
      "Requirement already satisfied: sniffio in /opt/conda/lib/python3.10/site-packages (from openai) (1.3.0)\n",
      "Requirement already satisfied: tqdm>4 in /opt/conda/lib/python3.10/site-packages (from openai) (4.65.0)\n",
      "Requirement already satisfied: typing-extensions<5,>=4.7 in /opt/conda/lib/python3.10/site-packages (from openai) (4.9.0)\n",
      "Requirement already satisfied: idna>=2.8 in /opt/conda/lib/python3.10/site-packages (from anyio<5,>=3.5.0->openai) (3.4)\n",
      "Requirement already satisfied: exceptiongroup>=1.0.2 in /opt/conda/lib/python3.10/site-packages (from anyio<5,>=3.5.0->openai) (1.2.0)\n",
      "Requirement already satisfied: certifi in /opt/conda/lib/python3.10/site-packages (from httpx<1,>=0.23.0->openai) (2023.11.17)\n",
      "Requirement already satisfied: httpcore==1.* in /opt/conda/lib/python3.10/site-packages (from httpx<1,>=0.23.0->openai) (1.0.3)\n",
      "Requirement already satisfied: h11<0.15,>=0.13 in /opt/conda/lib/python3.10/site-packages (from httpcore==1.*->httpx<1,>=0.23.0->openai) (0.14.0)\n",
      "Requirement already satisfied: annotated-types>=0.4.0 in /opt/conda/lib/python3.10/site-packages (from pydantic<3,>=1.9.0->openai) (0.6.0)\n",
      "Requirement already satisfied: pydantic-core==2.16.2 in /opt/conda/lib/python3.10/site-packages (from pydantic<3,>=1.9.0->openai) (2.16.2)\n",
      "Downloading openai-1.12.0-py3-none-any.whl (226 kB)\n",
      "\u001b[2K   \u001b[90m━━━━━━━━━━━━━━━━━━━━━━━━━━━━━━━━━━━━━━━━\u001b[0m \u001b[32m226.7/226.7 kB\u001b[0m \u001b[31m4.3 MB/s\u001b[0m eta \u001b[36m0:00:00\u001b[0m \u001b[36m0:00:01\u001b[0m\n",
      "\u001b[?25hInstalling collected packages: openai\n",
      "Successfully installed openai-1.12.0\n",
      "\u001b[33mWARNING: Running pip as the 'root' user can result in broken permissions and conflicting behaviour with the system package manager. It is recommended to use a virtual environment instead: https://pip.pypa.io/warnings/venv\u001b[0m\u001b[33m\n",
      "\u001b[0m"
     ]
    }
   ],
   "source": [
    "!pip install openai"
   ]
  },
  {
   "cell_type": "code",
   "execution_count": null,
   "id": "ea94ed0b",
   "metadata": {},
   "outputs": [],
   "source": [
    "#run this in command line to start the server\n",
    "#python -m llmtuner.api.app --model_name_or_path /workspace/LLaMA-Factory/qwen-1.5-0.5B-tool --template default\n"
   ]
  },
  {
   "cell_type": "code",
   "execution_count": 9,
   "id": "bb2881a0-55a2-4443-bae5-8bb1599c554c",
   "metadata": {},
   "outputs": [
    {
     "name": "stdout",
     "output_type": "stream",
     "text": [
      "Based on your grades and credit hours, your GPA would be approximately 3.4166666666666665.\n"
     ]
    }
   ],
   "source": [
    "import os\n",
    "import json\n",
    "from openai import OpenAI\n",
    "from typing import Sequence\n",
    "\n",
    "os.environ[\"OPENAI_BASE_URL\"] = \"http://0.0.0.0:8000/v1\" # Replace with local host IP\n",
    "os.environ[\"OPENAI_API_KEY\"] = \"0\"\n",
    "\n",
    "def calculate_gpa(grades: Sequence[str], hours: Sequence[int]) -> float:\n",
    "    grade_to_score = {\"A\": 4, \"B\": 3, \"C\": 2}\n",
    "    total_score, total_hour = 0, 0\n",
    "    for grade, hour in zip(grades, hours):\n",
    "        total_score += grade_to_score[grade] * hour\n",
    "        total_hour += hour\n",
    "    return total_score / total_hour\n",
    "\n",
    "tool_map = {\n",
    "    \"calculate_gpa\": calculate_gpa\n",
    "}\n",
    "\n",
    "if __name__ == \"__main__\":\n",
    "    client = OpenAI()\n",
    "    tools = [\n",
    "        {\n",
    "            \"type\": \"function\",\n",
    "            \"function\": {\n",
    "                \"name\": \"calculate_gpa\",\n",
    "                \"description\": \"Calculate GPA based on course grades and credit hours\",\n",
    "                \"parameters\": {\n",
    "                    \"type\": \"object\",\n",
    "                    \"properties\": {\n",
    "                        \"grades\": {\"type\": \"array\", \"items\": {\"type\": \"string\"}, \"description\": \"Course Grades\"},\n",
    "                        \"hours\": {\"type\": \"array\", \"items\": {\"type\": \"integer\"}, \"description\": \"course hours\"},\n",
    "                    },\n",
    "                    \"required\": [\"grades\", \"hours\"],\n",
    "                },\n",
    "            },\n",
    "        }\n",
    "    ]\n",
    "    messages = []\n",
    "    messages.append({\"role\": \"user\", \"content\": \"My grades are A, A, B, C, and the credit hours are 3, 4, 3, 2\"})\n",
    "    result = client.chat.completions.create(messages=messages, model=\"yi-agent-6b\", tools=tools)\n",
    "    tool_call = result.choices[0].message.tool_calls[0].function\n",
    "    name, arguments = tool_call.name, json.loads(tool_call.arguments)\n",
    "    messages.append({\"role\": \"function\", \"content\": json.dumps({\"name\": name, \"argument\": arguments}, ensure_ascii=False)})\n",
    "    tool_result = tool_map[name](**arguments)\n",
    "    messages.append({\"role\": \"tool\", \"content\": json.dumps({\"gpa\": tool_result}, ensure_ascii=False)})\n",
    "    result = client.chat.completions.create(messages=messages, model=\"yi-agent-6b\", tools=tools)\n",
    "    print(result.choices[0].message.content)"
   ]
  },
  {
   "cell_type": "code",
   "execution_count": 10,
   "id": "c41f77dd-6631-4176-b7f1-58170b315fee",
   "metadata": {},
   "outputs": [],
   "source": [
    "import gc, inspect, json, re\n",
    "import xml.etree.ElementTree as ET\n",
    "from functools import partial\n",
    "from typing import get_type_hints\n",
    "\n",
    "import transformers\n",
    "import torch\n",
    "\n",
    "from langchain.chains.openai_functions import convert_to_openai_function\n",
    "from langchain.utils.openai_functions import convert_pydantic_to_openai_function\n",
    "from langchain.pydantic_v1 import BaseModel, Field, validator"
   ]
  },
  {
   "cell_type": "code",
   "execution_count": 11,
   "id": "0570d44b-172b-4261-a3c6-51397531d398",
   "metadata": {},
   "outputs": [],
   "source": [
    "class BookRecommendation(BaseModel):\n",
    "    \"\"\"Provides book recommendations based on specified interest.\"\"\"\n",
    "    interest: str = Field(description=\"question of user interest about a book.\")\n",
    "    recommended_book: str = Field(description=\"answer to recommend a book\")\n",
    "\n",
    "    @validator(\"interest\")\n",
    "    def interests_must_not_be_empty(cls, field):\n",
    "        if not field:\n",
    "            raise ValueError(\"Interest cannot be empty.\")\n",
    "        return field\n",
    "     "
   ]
  },
  {
   "cell_type": "code",
   "execution_count": 12,
   "id": "05c66b9c-279e-4894-8c89-73bccfaa4f89",
   "metadata": {},
   "outputs": [],
   "source": [
    "class Joke(BaseModel):\n",
    "    \"\"\"Get a joke that includes the setup and punchline\"\"\"\n",
    "    setup: str = Field(description=\"question to set up a joke\")\n",
    "    punchline: str = Field(description=\"answer to resolve the joke\")\n",
    "\n",
    "    # You can add custom validation logic easily with Pydantic.\n",
    "    @validator(\"setup\")\n",
    "    def question_ends_with_question_mark(cls, field):\n",
    "        if field[-1] != \"?\":\n",
    "            raise ValueError(\"Badly formed question!\")\n",
    "        return field"
   ]
  },
  {
   "cell_type": "code",
   "execution_count": 13,
   "id": "649fabe2-9d1e-4e4b-a302-b39aef50a44d",
   "metadata": {},
   "outputs": [],
   "source": [
    "class SongRecommendation(BaseModel):\n",
    "    \"\"\"Provides song recommendations based on specified genre.\"\"\"\n",
    "    genre: str = Field(description=\"question to recommend a song.\")\n",
    "    song: str = Field(description=\"answer to recommend a song\")\n",
    "\n",
    "    @validator(\"genre\")\n",
    "    def genre_must_not_be_empty(cls, field):\n",
    "        if not field:\n",
    "            raise ValueError(\"genre cannot be empty.\")\n",
    "        return field"
   ]
  },
  {
   "cell_type": "code",
   "execution_count": 15,
   "id": "40b41453-e86c-4f64-aaf5-4f819c0812cf",
   "metadata": {},
   "outputs": [],
   "source": [
    "sr = convert_pydantic_to_openai_function(SongRecommendation)\n"
   ]
  },
  {
   "cell_type": "code",
   "execution_count": 16,
   "id": "efbbf4c0-453b-4448-95b1-68589edb0a34",
   "metadata": {},
   "outputs": [
    {
     "data": {
      "text/plain": [
       "{'name': 'SongRecommendation',\n",
       " 'description': 'Provides song recommendations based on specified genre.',\n",
       " 'parameters': {'type': 'object',\n",
       "  'properties': {'genre': {'description': 'question to recommend a song.',\n",
       "    'type': 'string'},\n",
       "   'song': {'description': 'answer to recommend a song', 'type': 'string'}},\n",
       "  'required': ['genre', 'song']}}"
      ]
     },
     "execution_count": 16,
     "metadata": {},
     "output_type": "execute_result"
    }
   ],
   "source": [
    "sr"
   ]
  },
  {
   "cell_type": "code",
   "execution_count": 17,
   "id": "8880c7a1-6a68-4de6-a269-e21cff06c665",
   "metadata": {},
   "outputs": [],
   "source": [
    "client = OpenAI()\n",
    "tools = [\n",
    "    {\n",
    "        \"type\": \"function\",\n",
    "        \"function\": sr,\n",
    "    }\n",
    "]\n",
    "messages = []\n",
    "messages.append({\"role\": \"user\", \"content\": \"Recommend some hiphop song\"})\n",
    "result = client.chat.completions.create(messages=messages, model=\"yi-agent-6b\", tools=tools)\n",
    "tool_call = result.choices[0].message.tool_calls[0].function"
   ]
  },
  {
   "cell_type": "code",
   "execution_count": 18,
   "id": "da0fb356-3ff5-4605-9490-0d2f241cb455",
   "metadata": {},
   "outputs": [
    {
     "data": {
      "text/plain": [
       "Function(arguments='{\"genre\": \"hiphop\"}', name='SongRecommendation')"
      ]
     },
     "execution_count": 18,
     "metadata": {},
     "output_type": "execute_result"
    }
   ],
   "source": [
    "tool_call"
   ]
  },
  {
   "cell_type": "code",
   "execution_count": null,
   "id": "1e00b32e-cc8b-4885-8c1c-3322895602ba",
   "metadata": {},
   "outputs": [],
   "source": []
  }
 ],
 "metadata": {
  "kernelspec": {
   "display_name": "Python 3 (ipykernel)",
   "language": "python",
   "name": "python3"
  },
  "language_info": {
   "codemirror_mode": {
    "name": "ipython",
    "version": 3
   },
   "file_extension": ".py",
   "mimetype": "text/x-python",
   "name": "python",
   "nbconvert_exporter": "python",
   "pygments_lexer": "ipython3",
   "version": "3.10.13"
  }
 },
 "nbformat": 4,
 "nbformat_minor": 5
}
