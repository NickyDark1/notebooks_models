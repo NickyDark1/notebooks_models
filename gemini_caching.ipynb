{
  "nbformat": 4,
  "nbformat_minor": 0,
  "metadata": {
    "colab": {
      "provenance": [],
      "authorship_tag": "ABX9TyPk7mE5lGq6gwYoDbE8e3rp",
      "include_colab_link": true
    },
    "kernelspec": {
      "name": "python3",
      "display_name": "Python 3"
    },
    "language_info": {
      "name": "python"
    }
  },
  "cells": [
    {
      "cell_type": "markdown",
      "metadata": {
        "id": "view-in-github",
        "colab_type": "text"
      },
      "source": [
        "<a href=\"https://colab.research.google.com/github/githubpradeep/notebooks/blob/main/gemini_caching.ipynb\" target=\"_parent\"><img src=\"https://colab.research.google.com/assets/colab-badge.svg\" alt=\"Open In Colab\"/></a>"
      ]
    },
    {
      "cell_type": "code",
      "source": [
        "!wget https://storage.googleapis.com/generativeai-downloads/data/Sherlock_Jr_FullMovie.mp4"
      ],
      "metadata": {
        "colab": {
          "base_uri": "https://localhost:8080/"
        },
        "id": "U_5H_dSFhB_l",
        "outputId": "12cd8ac8-d3a1-4025-e196-b705fe087cf4"
      },
      "execution_count": 4,
      "outputs": [
        {
          "output_type": "stream",
          "name": "stdout",
          "text": [
            "--2024-06-20 02:40:18--  https://storage.googleapis.com/generativeai-downloads/data/Sherlock_Jr_FullMovie.mp4\n",
            "Resolving storage.googleapis.com (storage.googleapis.com)... 173.194.216.207, 108.177.12.207, 173.194.217.207, ...\n",
            "Connecting to storage.googleapis.com (storage.googleapis.com)|173.194.216.207|:443... connected.\n",
            "HTTP request sent, awaiting response... 200 OK\n",
            "Length: 331623233 (316M) [video/mp4]\n",
            "Saving to: ‘Sherlock_Jr_FullMovie.mp4’\n",
            "\n",
            "Sherlock_Jr_FullMov 100%[===================>] 316.26M   121MB/s    in 2.6s    \n",
            "\n",
            "2024-06-20 02:40:21 (121 MB/s) - ‘Sherlock_Jr_FullMovie.mp4’ saved [331623233/331623233]\n",
            "\n"
          ]
        }
      ]
    },
    {
      "cell_type": "code",
      "source": [
        "import google.generativeai as genai\n",
        "import os\n",
        "\n",
        "genai.configure(api_key=\"\")\n",
        "\n",
        "model = genai.GenerativeModel('gemini-1.5-pro-001')"
      ],
      "metadata": {
        "id": "req8s_0ahJgB"
      },
      "execution_count": 7,
      "outputs": []
    },
    {
      "cell_type": "code",
      "source": [
        "from google.generativeai import caching\n",
        "import datetime\n",
        "import time\n",
        "\n",
        "# Download video file\n",
        "# !wget https://storage.googleapis.com/generativeai-downloads/data/Sherlock_Jr_FullMovie.mp4\n",
        "\n",
        "video_file_name = \"Sherlock_Jr_FullMovie.mp4\"\n",
        "\n",
        "# Upload the video using the Files API\n",
        "video_file = genai.upload_file(path=video_file_name)\n",
        "\n",
        "# Wait for the file to finish processing\n",
        "while video_file.state.name == \"PROCESSING\":\n",
        "    print('Waiting for video to be processed.')\n",
        "    time.sleep(2)\n",
        "    video_file = genai.get_file(video_file.name)\n",
        "\n",
        "print(f'Video processing complete: ' + video_file.uri)\n",
        "\n",
        "# Create a cache with a 5 minute TTL\n",
        "cache = caching.CachedContent.create(\n",
        "    model=\"models/gemini-1.5-flash-001\",\n",
        "    display_name=\"sherlock jr movie\", # used to identify the cache\n",
        "    system_instruction=\"You are an expert video analyzer, and your job is to answer user's query based on the video file you have access to.\",\n",
        "    contents=[video_file],\n",
        "    ttl=datetime.timedelta(minutes=5),\n",
        ")\n",
        "\n",
        "# Construct a GenerativeModel which uses the created cache.\n",
        "model = genai.GenerativeModel.from_cached_content(cached_content=cache)\n",
        "\n",
        "# Query the model\n",
        "response = model.generate_content([\"Introduce different characters in the movie by describing their personality, looks, and names. Also list the timestamps they were introduced for the first time.\"])\n",
        "\n",
        "print(response.usage_metadata)\n",
        "\n",
        "# The output should look something like this:\n",
        "#\n",
        "# prompt_token_count: 696226\n",
        "# candidates_token_count: 351\n",
        "# total_token_count: 696577\n",
        "# cached_content_token_count: 696189!pip install -q -U google-generativeai"
      ],
      "metadata": {
        "colab": {
          "base_uri": "https://localhost:8080/",
          "height": 329
        },
        "id": "VCgDTaDqg3wg",
        "outputId": "a7e119f0-a845-47bf-c454-121babc782d3"
      },
      "execution_count": 8,
      "outputs": [
        {
          "output_type": "stream",
          "name": "stdout",
          "text": [
            "Waiting for video to be processed.\n",
            "Waiting for video to be processed.\n",
            "Waiting for video to be processed.\n",
            "Waiting for video to be processed.\n",
            "Waiting for video to be processed.\n",
            "Waiting for video to be processed.\n",
            "Waiting for video to be processed.\n",
            "Waiting for video to be processed.\n",
            "Waiting for video to be processed.\n",
            "Waiting for video to be processed.\n",
            "Waiting for video to be processed.\n",
            "Waiting for video to be processed.\n",
            "Video processing complete: https://generativelanguage.googleapis.com/v1beta/files/fl6wa72n3bz6\n",
            "prompt_token_count: 696218\n",
            "candidates_token_count: 292\n",
            "total_token_count: 696510\n",
            "cached_content_token_count: 696189\n",
            "\n"
          ]
        }
      ]
    },
    {
      "cell_type": "code",
      "source": [
        "nc = caching.CachedContent.get(\"cachedContents/97bvo3kjsan4\")"
      ],
      "metadata": {
        "id": "MxIX2NS8g6Hb"
      },
      "execution_count": 11,
      "outputs": []
    },
    {
      "cell_type": "code",
      "source": [
        "model = genai.GenerativeModel.from_cached_content(cached_content=nc)\n",
        "\n",
        "# Query the model\n",
        "response = model.generate_content([\"Introduce different characters in the movie by describing their personality, looks, and names. Also list the timestamps they were introduced for the first time.\"])\n",
        "\n",
        "print(response.usage_metadata)"
      ],
      "metadata": {
        "colab": {
          "base_uri": "https://localhost:8080/",
          "height": 104
        },
        "id": "UxO1CZeXhH8S",
        "outputId": "467f0863-9a56-4d66-cd71-a65efd31cc8c"
      },
      "execution_count": 12,
      "outputs": [
        {
          "output_type": "stream",
          "name": "stdout",
          "text": [
            "prompt_token_count: 696218\n",
            "candidates_token_count: 327\n",
            "total_token_count: 696545\n",
            "cached_content_token_count: 696189\n",
            "\n"
          ]
        }
      ]
    },
    {
      "cell_type": "code",
      "source": [
        "print(response.text)"
      ],
      "metadata": {
        "colab": {
          "base_uri": "https://localhost:8080/"
        },
        "id": "Ux51WhMOiQtI",
        "outputId": "f3870462-580e-400a-c846-3ccf5104cd9d"
      },
      "execution_count": 14,
      "outputs": [
        {
          "output_type": "stream",
          "name": "stdout",
          "text": [
            "Sure, here are the characters in the movie \"Sherlock Jr.\",  with their personality, looks, and names, and their first appearance timestamps:\n",
            "\n",
            "* **Buster Keaton** (the boy): Keaton is a young man with a naive and enthusiastic personality. He is depicted as a wide-eyed, eager, and slightly awkward character with a small mustache.  He works as a projectionist in a small-town theater. **First Appearance: 01:26**\n",
            "\n",
            "* **Kathryn McGuire** (the girl): McGuire is portrayed as a young, beautiful, and somewhat sassy woman with a charming demeanor. She is the daughter of a wealthy man and has a pet dog. **First Appearance: 02:13**\n",
            "\n",
            "* **Joe Keaton** (the girl's father): Keaton is a wealthy man who is portrayed as a rather stern and somewhat clueless character. He is a gruff-looking man who is always seen with a worried expression. **First Appearance: 02:17**\n",
            "\n",
            "* **Ward Crane** (the sheik): Crane is a suave and sophisticated man who is depicted as a charmer and a bit of a playboy. He is well-dressed in a pinstriped suit and hat. **First Appearance: 03:41**\n",
            "\n",
            "* **Erwin Connelly** (the hired man): Connelly is a gruff and hard-working man who is portrayed as a bit of a comic relief. He is seen wearing overalls and a cap and often interacts with Buster Keaton in a humorous manner. **First Appearance: 02:26**\n",
            "\n"
          ]
        }
      ]
    },
    {
      "cell_type": "code",
      "source": [],
      "metadata": {
        "id": "6DyNczoQjWB7"
      },
      "execution_count": null,
      "outputs": []
    }
  ]
}