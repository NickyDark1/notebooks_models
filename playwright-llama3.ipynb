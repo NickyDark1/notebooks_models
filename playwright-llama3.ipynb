{
 "cells": [
  {
   "cell_type": "code",
   "execution_count": 2,
   "id": "2f479e9b",
   "metadata": {},
   "outputs": [],
   "source": [
    "import os\n",
    "\n",
    "from groq import Groq\n",
    "\n",
    "api_key=''\n",
    "import os\n",
    "os.environ['GROQ_API_KEY'] = api_key\n"
   ]
  },
  {
   "cell_type": "code",
   "execution_count": 6,
   "id": "288a1be8",
   "metadata": {},
   "outputs": [],
   "source": [
    "import asyncio\n",
    "from playwright.async_api import async_playwright\n",
    "\n",
    "import playwright\n",
    "import pytesseract\n",
    "from PIL import Image\n",
    "import asyncio\n",
    "from playwright.async_api import async_playwright\n",
    "from PIL import Image, ImageDraw\n",
    "import asyncio\n",
    "from playwright.async_api import async_playwright\n",
    "\n",
    "\n",
    "import base64\n",
    "\n",
    "import json\n"
   ]
  },
  {
   "cell_type": "code",
   "execution_count": 7,
   "id": "674e4ed5",
   "metadata": {},
   "outputs": [],
   "source": [
    "prompt='''Imagine you are a robot browsing the web, just like humans. Now you need to complete a task. In each iteration,\n",
    "you will receive an Observation that includes a screenshot of a webpage and some texts. \n",
    "Carefully analyze the bounding box information and the web page contents to identify the Numerical Label corresponding \n",
    "to the Web Element that requires interaction, then follow\n",
    "the guidelines and choose one of the following actions:\n",
    "\n",
    "1. Click a Web Element.\n",
    "2. Delete existing content in a textbox and then type content.\n",
    "3. Scroll up or down.\n",
    "4. Wait \n",
    "5. Go back\n",
    "7. Return to google to start over.\n",
    "8. Respond with the final answer\n",
    "\n",
    "Correspondingly, Action should STRICTLY follow the format:\n",
    "\n",
    "- Click [Numerical_Label] \n",
    "- Type [Numerical_Label]; [Content] \n",
    "- Scroll [Numerical_Label or WINDOW]; [up or down] \n",
    "- Wait \n",
    "- GoBack\n",
    "- Bing\n",
    "- ANSWER; [content]\n",
    "\n",
    "Key Guidelines You MUST follow:\n",
    "\n",
    "* Action guidelines *\n",
    "1) Execute only one action per iteration.\n",
    "2) Always click close on the popups.\n",
    "3) When clicking or typing, ensure to select the correct bounding box.\n",
    "4) Numeric labels lie in the top-left corner of their corresponding bounding boxes and are colored the same.\n",
    "5) If the desired target is to do something like taking a action, you need to answer with ANSWER; FINISHED. For exmaple if i ask to write something or play a video\n",
    "\n",
    "* Web Browsing Guidelines *\n",
    "1) Don't interact with useless web elements like Login, Sign-in, donation that appear in Webpages\n",
    "2) Select strategically to minimize time wasted.\n",
    "\n",
    "Your reply should strictly follow the format:\n",
    "\n",
    "Thought: {{Your brief thoughts (briefly summarize the info that will help ANSWER)}}\n",
    "Action: {{One Action format you choose}}\n",
    "Then the User will provide:\n",
    "Observation: {{A labeled bounding boxes and contents given by User}}'''"
   ]
  },
  {
   "cell_type": "code",
   "execution_count": 8,
   "id": "96f2dabb",
   "metadata": {},
   "outputs": [],
   "source": [
    "import os\n"
   ]
  },
  {
   "cell_type": "code",
   "execution_count": 9,
   "id": "3ad8f468",
   "metadata": {},
   "outputs": [],
   "source": [
    "import nest_asyncio\n",
    "\n",
    "# This is just required for running async playwright in a Jupyter notebook\n",
    "nest_asyncio.apply()\n"
   ]
  },
  {
   "cell_type": "code",
   "execution_count": 10,
   "id": "3dafc78f",
   "metadata": {},
   "outputs": [
    {
     "name": "stdout",
     "output_type": "stream",
     "text": [
      "*************** Thought: The screenshot shows a search result for iPhones on Amazon.in.\n",
      "The price of an iPhone is visible in the search results, specifically for an iPhone 13 (128GB) - Blue.\n",
      "\n",
      "Action: ANSWER; ₹51,990\n"
     ]
    },
    {
     "data": {
      "text/plain": [
       "[{'ANSWER': ('₹51,990',)}]"
      ]
     },
     "execution_count": 10,
     "metadata": {},
     "output_type": "execute_result"
    }
   ],
   "source": [
    "import re\n",
    "\n",
    "def parse_commands(text):\n",
    "    # Define patterns for each command\n",
    "    command_patterns = {\n",
    "        'Click': r'Click \\[?(\\d+)\\]?',\n",
    "        'Type': r'Type \\[?(\\d+)\\]?; (.*)',\n",
    "        'Scroll': r'Scroll \\[?(\\d+|WINDOW)\\]?; \\[?(up|down)\\]?',\n",
    "        'Scroll1': r'Scroll \\[?(up|down)\\]?; \\[?(\\d+|WINDOW)\\]?',\n",
    "        'Wait': r'Wait',\n",
    "        'GoBack': r'GoBack',\n",
    "        'Bing': r'Bing',\n",
    "        'Google': r'Google',\n",
    "        'ANSWER': r'ANSWER; (.*)',\n",
    "        'FINISHED': r'FINISHED'\n",
    "    }\n",
    "    \n",
    "    print(\"***************\", text)\n",
    "    # Dictionary to hold the parsed commands\n",
    "    parsed_commands = []\n",
    "    \n",
    "    # Search for each command in the text\n",
    "    for command, pattern in command_patterns.items():\n",
    "        for match in re.finditer(pattern, text):\n",
    "            if command in ['Click', 'Type', 'Scroll', 'Scroll1', 'ANSWER']:\n",
    "                # Commands with parameters\n",
    "                if command == 'Scroll1':\n",
    "                    command = 'Scroll'\n",
    "                    parsed_commands.append({command: match.groups()[::-1]})\n",
    "                else:\n",
    "                    parsed_commands.append({command: match.groups()})\n",
    "            else:\n",
    "                # Commands without specific parameters\n",
    "                parsed_commands.append(command)\n",
    "    \n",
    "    return parsed_commands\n",
    "\n",
    "# Example text input\n",
    "text = '''Thought: The screenshot shows a search result for iPhones on Amazon.in.\n",
    "The price of an iPhone is visible in the search results, specifically for an iPhone 13 (128GB) - Blue.\\n\\nAction: ANSWER; ₹51,990'''\n",
    "\n",
    "# Parse the example text\n",
    "parsed_commands = parse_commands(text)\n",
    "parsed_commands\n"
   ]
  },
  {
   "cell_type": "code",
   "execution_count": 11,
   "id": "f1e2c94f",
   "metadata": {},
   "outputs": [],
   "source": [
    "async def type_command(query, location):\n",
    "    import platform\n",
    "    await annot_elements[location].click()\n",
    "    select_all = \"Meta+A\" if platform.system() == \"Darwin\" else \"Control+A\"\n",
    "    await page.keyboard.press(select_all)\n",
    "    await page.keyboard.press(\"Backspace\")\n",
    "    await page.keyboard.type(query)\n",
    "    await page.keyboard.press(\"Enter\")\n",
    "    "
   ]
  },
  {
   "cell_type": "code",
   "execution_count": null,
   "id": "4283a763",
   "metadata": {},
   "outputs": [],
   "source": []
  },
  {
   "cell_type": "code",
   "execution_count": 12,
   "id": "61e1baee",
   "metadata": {},
   "outputs": [],
   "source": [
    "def llama3_agent(q):\n",
    "    client = Groq(\n",
    "        api_key=os.environ.get(\"GROQ_API_KEY\"),\n",
    "    )\n",
    "\n",
    "    chat_completion = client.chat.completions.create(\n",
    "        messages=[\n",
    "            {\n",
    "                \"role\": \"user\",\n",
    "                \"content\": q,\n",
    "            }\n",
    "        ],\n",
    "        model=\"llama3-70b-8192\",\n",
    "    )\n",
    "\n",
    "    print(chat_completion.choices[0].message.content)\n",
    "    return chat_completion.choices[0].message.content"
   ]
  },
  {
   "cell_type": "code",
   "execution_count": 13,
   "id": "ebbbfaf3",
   "metadata": {},
   "outputs": [
    {
     "name": "stdout",
     "output_type": "stream",
     "text": [
      "*************** Action: {{Scroll WINDOW; down}}\n"
     ]
    },
    {
     "data": {
      "text/plain": [
       "[{'Scroll': ('WINDOW', 'down')}]"
      ]
     },
     "execution_count": 13,
     "metadata": {},
     "output_type": "execute_result"
    }
   ],
   "source": [
    "parsed_commands = parse_commands('Action: {{Scroll WINDOW; down}}')\n",
    "parsed_commands"
   ]
  },
  {
   "cell_type": "code",
   "execution_count": 14,
   "id": "35299469",
   "metadata": {},
   "outputs": [],
   "source": [
    "import asyncio\n",
    "import base64\n",
    "\n",
    "from langchain_core.runnables import chain as chain_decorator\n",
    "\n",
    "# Some javascript we will run on each step\n",
    "# to take a screenshot of the page, select the\n",
    "# elements to annotate, and add bounding boxes\n",
    "with open(\"mark_page.js\") as f:\n",
    "    mark_page_script = f.read()\n",
    "\n",
    "\n",
    "\n",
    "async def mark_page(page):\n",
    "    with open(\"mark_page.js\") as f:\n",
    "        mark_page_script = f.read()\n",
    "    await page.evaluate(mark_page_script)\n",
    "    for _ in range(10):\n",
    "        try:\n",
    "            bboxes = await page.evaluate(\"markPage()\")\n",
    "            break\n",
    "        except:\n",
    "            # May be loading...\n",
    "            asyncio.sleep(3)\n",
    "    screenshot = await page.screenshot(path='annotated_screenshot_with_numbers.png')\n",
    "    # Ensure the bboxes don't follow us around\n",
    "    await page.evaluate(\"unmarkPage()\")\n",
    "    return {\n",
    "        \"img\": base64.b64encode(screenshot).decode(),\n",
    "        \"bboxes\": bboxes,\n",
    "    }"
   ]
  },
  {
   "cell_type": "code",
   "execution_count": 15,
   "id": "406438a1",
   "metadata": {},
   "outputs": [],
   "source": [
    "def format_descriptions(state):\n",
    "    labels = []\n",
    "    for i, bbox in enumerate(state[\"bboxes\"]):\n",
    "        text = bbox.get(\"ariaLabel\") or \"\"\n",
    "        if not text.strip():\n",
    "            text = bbox[\"text\"]\n",
    "        el_type = bbox.get(\"type\")\n",
    "        labels.append(f'{i} (<{el_type}/>): \"{text}\"')\n",
    "    bbox_descriptions = \"\\nValid Bounding Boxes:\\n\" + \"\\n\".join(labels)\n",
    "    return {**state, \"bbox_descriptions\": bbox_descriptions}"
   ]
  },
  {
   "cell_type": "code",
   "execution_count": 16,
   "id": "711d1cf2",
   "metadata": {},
   "outputs": [],
   "source": [
    "async def click(page, state, query, location):\n",
    "    # - Click [Numerical_Label]\n",
    "    \n",
    "    bbox_id = location\n",
    "    bbox_id = int(bbox_id)\n",
    "    try:\n",
    "        bbox = state[\"bboxes\"][bbox_id]\n",
    "    except:\n",
    "        return f\"Error: no bbox for : {bbox_id}\"\n",
    "    x, y = bbox[\"x\"], bbox[\"y\"]\n",
    "    res = await page.mouse.click(x, y)\n",
    "    # TODO: In the paper, they automatically parse any downloaded PDFs\n",
    "    # We could add something similar here as well and generally\n",
    "    # improve response format.\n",
    "    return  res"
   ]
  },
  {
   "cell_type": "code",
   "execution_count": 17,
   "id": "bd5d6ce8",
   "metadata": {},
   "outputs": [],
   "source": [
    "async def type_text(page, location,text_content, state):\n",
    "    bbox_id = location\n",
    "    bbox_id = int(bbox_id)\n",
    "    bbox = state[\"bboxes\"][bbox_id]\n",
    "    x, y = bbox[\"x\"], bbox[\"y\"]\n",
    "    await page.mouse.click(x, y)\n",
    "    # Check if MacOS\n",
    "    select_all = \"Meta+A\" if platform.system() == \"Darwin\" else \"Control+A\"\n",
    "    await page.keyboard.press(select_all)\n",
    "    await page.keyboard.press(\"Backspace\")\n",
    "    await page.keyboard.type(text_content)\n",
    "    page = await page.keyboard.press(\"Enter\")\n",
    "    return page"
   ]
  },
  {
   "cell_type": "code",
   "execution_count": 18,
   "id": "61c6d6e5",
   "metadata": {},
   "outputs": [],
   "source": [
    "async def scroll(page, state, scroll_args):\n",
    "    if scroll_args is None or len(scroll_args) != 2:\n",
    "        return \"Failed to scroll due to incorrect arguments.\"\n",
    "\n",
    "    target, direction = scroll_args\n",
    "\n",
    "    if target.upper() == \"WINDOW\":\n",
    "        # Not sure the best value for this:\n",
    "        scroll_amount = 500\n",
    "        scroll_direction = (\n",
    "            -scroll_amount if direction.lower() == \"up\" else scroll_amount\n",
    "        )\n",
    "        await page.evaluate(f\"window.scrollBy(0, {scroll_direction})\")\n",
    "    else:\n",
    "        # Scrolling within a specific element\n",
    "        scroll_amount = 200\n",
    "        target_id = int(target)\n",
    "        bbox = state[\"bboxes\"][target_id]\n",
    "        x, y = bbox[\"x\"], bbox[\"y\"]\n",
    "        scroll_direction = (\n",
    "            -scroll_amount if direction.lower() == \"up\" else scroll_amount\n",
    "        )\n",
    "        await page.mouse.move(x, y)\n",
    "        await page.mouse.wheel(0, scroll_direction)\n",
    "\n",
    "    return f\"Scrolled {direction} in {'window' if target.upper() == 'WINDOW' else 'element'}\""
   ]
  },
  {
   "cell_type": "code",
   "execution_count": 19,
   "id": "0899f248",
   "metadata": {},
   "outputs": [],
   "source": [
    "async def wait():\n",
    "    sleep_time = 5\n",
    "    await asyncio.sleep(sleep_time)\n",
    "    return f\"Waited for {sleep_time}s.\"\n",
    "\n",
    "\n",
    "async def go_back(page):\n",
    "    \n",
    "    await page.go_back()\n",
    "    return f\"Navigated back a page to {page.url}.\"\n",
    "\n",
    "\n",
    "async def to_google(page):\n",
    "    await page.goto(\"https://www.google.com/\")\n",
    "    return \"Navigated to google.com.\""
   ]
  },
  {
   "cell_type": "code",
   "execution_count": 20,
   "id": "e65e2985",
   "metadata": {},
   "outputs": [],
   "source": [
    "def get_prompt(text, question):\n",
    "    return f'''\n",
    "        Given the following information \n",
    "        Content:\n",
    "        {text}\n",
    "        and a task\n",
    "        Question:\n",
    "        {question}\n",
    "        Reply with answer if it is not an action and answer is available in the text.\n",
    "        Reply with NO If you do not know the answer\n",
    "        Reply with NO If your response is a set of actions to be taken\n",
    "        Reply  with NO If the question involves an action \n",
    "        \n",
    "        example:\n",
    "        Question:\n",
    "        Play X on youtube\n",
    "        Answer: NO\n",
    "        Dont add any preamble\n",
    "        Answer:\n",
    "    '''"
   ]
  },
  {
   "cell_type": "code",
   "execution_count": 22,
   "id": "134e0194",
   "metadata": {},
   "outputs": [
    {
     "name": "stdout",
     "output_type": "stream",
     "text": [
      "70,999\n"
     ]
    },
    {
     "data": {
      "text/plain": [
       "'70,999'"
      ]
     },
     "execution_count": 22,
     "metadata": {},
     "output_type": "execute_result"
    }
   ],
   "source": [
    "p = get_prompt('Apple iPhone 15 128GB Green  ₹70,999', 'iphone  price')\n",
    "llama3_agent(p)"
   ]
  },
  {
   "cell_type": "code",
   "execution_count": 28,
   "id": "d1207f8c",
   "metadata": {},
   "outputs": [],
   "source": [
    "async def get_information1(query):\n",
    "    \n",
    "\n",
    "    prev_image = ''\n",
    "    answer = ''\n",
    "    while True:\n",
    "        \n",
    "\n",
    "#         print(len(browser.contexts[0].pages))\n",
    "#         page = browser.contexts[0].pages[0]\n",
    "        try:\n",
    "            obj = await mark_page(page)\n",
    "        except:\n",
    "            await wait()\n",
    "            continue\n",
    "#         if obj['img'] == prev_image:\n",
    "#             await page.goto('https://www.amazon.in/')\n",
    "#             continue\n",
    "        obj = format_descriptions(obj)\n",
    "    \n",
    "        text = await page.inner_text('body')\n",
    "        \n",
    "        if 'google' not in page.url:\n",
    "        \n",
    "            p = get_prompt(text, query)\n",
    "            p = llama3_agent(p)\n",
    "            if p != 'NO':\n",
    "                return p\n",
    "\n",
    "\n",
    "        new_query =  prompt + \"\\n Valid Bounding boxes: \" + obj['bbox_descriptions']  \\\n",
    "        + '\\nQuestion:'+query\n",
    "        #print(new_query)\n",
    "        #print(new_query)\n",
    "        resp = llama3_agent(new_query)\n",
    "        \n",
    "        print(\"********************\", resp)\n",
    "        \n",
    "        parsed_commands =parse_commands(resp)[0]\n",
    "        print(parsed_commands)\n",
    "        if 'Type' in parsed_commands:\n",
    "            location = int(parsed_commands['Type'][0])\n",
    "            await type_text(page, location, parsed_commands['Type'][1], obj)\n",
    "        elif 'Click' in parsed_commands:\n",
    "            location = int(parsed_commands['Click'][0])\n",
    "            await click(page, obj, query, location)\n",
    "        elif 'Bing' in parsed_commands:\n",
    "            await page.goto('https://www.bing.com/')\n",
    "            \n",
    "        elif 'Scroll' in parsed_commands:\n",
    "            await scroll(page, obj, parsed_commands['Scroll'])\n",
    "            \n",
    "        elif 'Wait' in parsed_commands:\n",
    "            await wait()\n",
    "        elif 'GoBack' in parsed_commands:\n",
    "            await go_back(page)\n",
    "        elif 'Google' in parsed_commands:\n",
    "            await to_google(page)\n",
    "            \n",
    "        elif 'ANSWER' in parsed_commands:\n",
    "            answer = parsed_commands['ANSWER'][0]\n",
    "            print(answer)\n",
    "            break\n",
    "        elif 'FINISHED' in parsed_commands:\n",
    "            break\n",
    "    #await browser.close()\n",
    "    return answer\n",
    "    "
   ]
  },
  {
   "cell_type": "code",
   "execution_count": 25,
   "id": "5a4914ba",
   "metadata": {},
   "outputs": [
    {
     "name": "stdout",
     "output_type": "stream",
     "text": [
      "Thought: I need to find a good joke, so I'll use the search bar to search for one.\n",
      "\n",
      "Action: Type 5; tell me a good joke\n",
      "******************** Thought: I need to find a good joke, so I'll use the search bar to search for one.\n",
      "\n",
      "Action: Type 5; tell me a good joke\n",
      "*************** Thought: I need to find a good joke, so I'll use the search bar to search for one.\n",
      "\n",
      "Action: Type 5; tell me a good joke\n",
      "{'Type': ('5', 'tell me a good joke')}\n",
      "Thought: I've analyzed the webpage and noticed that the user has asked for a good joke. I'll click on the first search result, \"80 Hilariously Funny Jokes 2023 - Funniest Jokes to Tell\" from Country Living Magazine.\n",
      "\n",
      "Action: Click 26\n",
      "******************** Thought: I've analyzed the webpage and noticed that the user has asked for a good joke. I'll click on the first search result, \"80 Hilariously Funny Jokes 2023 - Funniest Jokes to Tell\" from Country Living Magazine.\n",
      "\n",
      "Action: Click 26\n",
      "*************** Thought: I've analyzed the webpage and noticed that the user has asked for a good joke. I'll click on the first search result, \"80 Hilariously Funny Jokes 2023 - Funniest Jokes to Tell\" from Country Living Magazine.\n",
      "\n",
      "Action: Click 26\n",
      "{'Click': ('26',)}\n",
      "What falls, but never needs a bandage? The rain.\n"
     ]
    },
    {
     "data": {
      "text/plain": [
       "'What falls, but never needs a bandage? The rain.'"
      ]
     },
     "execution_count": 25,
     "metadata": {},
     "output_type": "execute_result"
    }
   ],
   "source": [
    "import platform\n",
    "playwright = await async_playwright().start()\n",
    "\n",
    "browser = await playwright.chromium.launch(headless=False)  # Launch Chromium browser\n",
    "page = await browser.new_page()  # Open a new page\n",
    "await page.goto('https://www.google.in')\n",
    "\n",
    "await get_information1('tell me a good joke')"
   ]
  },
  {
   "cell_type": "code",
   "execution_count": 29,
   "id": "58c0fced",
   "metadata": {},
   "outputs": [
    {
     "name": "stdout",
     "output_type": "stream",
     "text": [
      "Thought: The webpage appears to be the Google search engine homepage, and I need to find the price of an iPhone on Amazon.\n",
      "\n",
      "Action: Type 4; iphone price on amazon\n",
      "******************** Thought: The webpage appears to be the Google search engine homepage, and I need to find the price of an iPhone on Amazon.\n",
      "\n",
      "Action: Type 4; iphone price on amazon\n",
      "*************** Thought: The webpage appears to be the Google search engine homepage, and I need to find the price of an iPhone on Amazon.\n",
      "\n",
      "Action: Type 4; iphone price on amazon\n",
      "{'Type': ('4', 'iphone price on amazon')}\n",
      "Thought: I understand that I need to find the iPhone price on Amazon. I will navigate to the relevant webpage and extract the price information.\n",
      "\n",
      "Action: Click 26\n",
      "******************** Thought: I understand that I need to find the iPhone price on Amazon. I will navigate to the relevant webpage and extract the price information.\n",
      "\n",
      "Action: Click 26\n",
      "*************** Thought: I understand that I need to find the iPhone price on Amazon. I will navigate to the relevant webpage and extract the price information.\n",
      "\n",
      "Action: Click 26\n",
      "{'Click': ('26',)}\n",
      "The prices of iPhones on Amazon are:\n",
      "\n",
      "* Apple iPhone 13 (128GB) - ₹51,900\n",
      "* Apple iPhone 14 (128 GB) - ₹58,999\n",
      "* Apple iPhone 15 Plus (128 GB) - ₹80,990\n",
      "* Apple iPhone 15 Pro Max (256 GB) - ₹1,48,900\n",
      "* Apple iPhone 15 (128 GB) - ₹70,999\n",
      "* Apple iPhone 14 Plus (256 GB) - ₹76,999\n",
      "* Apple iPhone 15 Pro (128 GB) - ₹1,27,990\n"
     ]
    },
    {
     "data": {
      "text/plain": [
       "'The prices of iPhones on Amazon are:\\n\\n* Apple iPhone 13 (128GB) - ₹51,900\\n* Apple iPhone 14 (128 GB) - ₹58,999\\n* Apple iPhone 15 Plus (128 GB) - ₹80,990\\n* Apple iPhone 15 Pro Max (256 GB) - ₹1,48,900\\n* Apple iPhone 15 (128 GB) - ₹70,999\\n* Apple iPhone 14 Plus (256 GB) - ₹76,999\\n* Apple iPhone 15 Pro (128 GB) - ₹1,27,990'"
      ]
     },
     "execution_count": 29,
     "metadata": {},
     "output_type": "execute_result"
    }
   ],
   "source": [
    "import platform\n",
    "playwright = await async_playwright().start()\n",
    "\n",
    "browser = await playwright.chromium.launch(headless=False)  # Launch Chromium browser\n",
    "page = await browser.new_page()  # Open a new page\n",
    "await page.goto('https://www.google.in')\n",
    "await get_information1('iphone price on amazon')"
   ]
  },
  {
   "cell_type": "code",
   "execution_count": 30,
   "id": "61464856",
   "metadata": {},
   "outputs": [
    {
     "name": "stdout",
     "output_type": "stream",
     "text": [
      "Thought: I need to play \"in the end song\" on youtube.\n",
      "\n",
      "Action: Type 5; in the end song youtube\n",
      "******************** Thought: I need to play \"in the end song\" on youtube.\n",
      "\n",
      "Action: Type 5; in the end song youtube\n",
      "*************** Thought: I need to play \"in the end song\" on youtube.\n",
      "\n",
      "Action: Type 5; in the end song youtube\n",
      "{'Type': ('5', 'in the end song youtube')}\n",
      "Thought: I need to play \"In The End\" song on YouTube.\n",
      "\n",
      "Action: Click 22\n",
      "******************** Thought: I need to play \"In The End\" song on YouTube.\n",
      "\n",
      "Action: Click 22\n",
      "*************** Thought: I need to play \"In The End\" song on YouTube.\n",
      "\n",
      "Action: Click 22\n",
      "{'Click': ('22',)}\n",
      "In The End [Official HD Music Video] - Linkin Park\n"
     ]
    },
    {
     "data": {
      "text/plain": [
       "'In The End [Official HD Music Video] - Linkin Park'"
      ]
     },
     "execution_count": 30,
     "metadata": {},
     "output_type": "execute_result"
    }
   ],
   "source": [
    "import platform\n",
    "playwright = await async_playwright().start()\n",
    "\n",
    "browser = await playwright.chromium.launch(headless=False)  # Launch Chromium browser\n",
    "page = await browser.new_page()  # Open a new page\n",
    "await page.goto('https://www.google.in')\n",
    "\n",
    "await get_information1('play \"in the end song\" on youtube')"
   ]
  },
  {
   "cell_type": "code",
   "execution_count": 34,
   "id": "2afc900d",
   "metadata": {},
   "outputs": [
    {
     "name": "stdout",
     "output_type": "stream",
     "text": [
      "Thought: I've been asked to find places to visit in India. I'm on the Google homepage, so I'll start by typing my query in the search box.\n",
      "\n",
      "Action: Type 4; places to visit in India\n",
      "******************** Thought: I've been asked to find places to visit in India. I'm on the Google homepage, so I'll start by typing my query in the search box.\n",
      "\n",
      "Action: Type 4; places to visit in India\n",
      "*************** Thought: I've been asked to find places to visit in India. I'm on the Google homepage, so I'll start by typing my query in the search box.\n",
      "\n",
      "Action: Type 4; places to visit in India\n",
      "{'Type': ('4', 'places to visit in India')}\n",
      "Thought: Analyzing the webpage, I see a search bar and various options like Images, Maps, Videos, and News. The question is about finding tourist places to visit in India.\n",
      "\n",
      "Action: Type 1; What are the places to visit in India\n",
      "******************** Thought: Analyzing the webpage, I see a search bar and various options like Images, Maps, Videos, and News. The question is about finding tourist places to visit in India.\n",
      "\n",
      "Action: Type 1; What are the places to visit in India\n",
      "*************** Thought: Analyzing the webpage, I see a search bar and various options like Images, Maps, Videos, and News. The question is about finding tourist places to visit in India.\n",
      "\n",
      "Action: Type 1; What are the places to visit in India\n",
      "{'Type': ('1', 'What are the places to visit in India')}\n",
      "Thought: I have been presented with a webpage that appears to be a search results page, with various elements such as images, links, and text. I need to find the relevant information related to the question \"What are the places to visit in India\".\n",
      "\n",
      "Action: Click 21\n",
      "******************** Thought: I have been presented with a webpage that appears to be a search results page, with various elements such as images, links, and text. I need to find the relevant information related to the question \"What are the places to visit in India\".\n",
      "\n",
      "Action: Click 21\n",
      "*************** Thought: I have been presented with a webpage that appears to be a search results page, with various elements such as images, links, and text. I need to find the relevant information related to the question \"What are the places to visit in India\".\n",
      "\n",
      "Action: Click 21\n",
      "{'Click': ('21',)}\n"
     ]
    },
    {
     "ename": "RateLimitError",
     "evalue": "Error code: 429 - {'error': {'message': 'Rate limit reached for model `llama3-70b-8192` in organization `org_01hqjr85w6ffh89gthy5wjn0wy` on tokens per minute (TPM): Limit 3500, Used 2880, Requested ~5718. Please try again in 1m27.378714285s. Visit https://console.groq.com/docs/rate-limits for more information.', 'type': 'tokens', 'code': 'rate_limit_exceeded'}}",
     "output_type": "error",
     "traceback": [
      "\u001b[0;31m---------------------------------------------------------------------------\u001b[0m",
      "\u001b[0;31mRateLimitError\u001b[0m                            Traceback (most recent call last)",
      "Cell \u001b[0;32mIn[34], line 8\u001b[0m\n\u001b[1;32m      5\u001b[0m page \u001b[38;5;241m=\u001b[39m \u001b[38;5;28;01mawait\u001b[39;00m browser\u001b[38;5;241m.\u001b[39mnew_page()  \u001b[38;5;66;03m# Open a new page\u001b[39;00m\n\u001b[1;32m      6\u001b[0m \u001b[38;5;28;01mawait\u001b[39;00m page\u001b[38;5;241m.\u001b[39mgoto(\u001b[38;5;124m'\u001b[39m\u001b[38;5;124mhttps://www.google.in\u001b[39m\u001b[38;5;124m'\u001b[39m)\n\u001b[0;32m----> 8\u001b[0m \u001b[38;5;28;01mawait\u001b[39;00m get_information1(\u001b[38;5;124m'\u001b[39m\u001b[38;5;124mWhat are the places to visit in India\u001b[39m\u001b[38;5;124m'\u001b[39m)\n",
      "Cell \u001b[0;32mIn[28], line 26\u001b[0m, in \u001b[0;36mget_information1\u001b[0;34m(query)\u001b[0m\n\u001b[1;32m     23\u001b[0m \u001b[38;5;28;01mif\u001b[39;00m \u001b[38;5;124m'\u001b[39m\u001b[38;5;124mgoogle\u001b[39m\u001b[38;5;124m'\u001b[39m \u001b[38;5;129;01mnot\u001b[39;00m \u001b[38;5;129;01min\u001b[39;00m page\u001b[38;5;241m.\u001b[39murl:\n\u001b[1;32m     25\u001b[0m     p \u001b[38;5;241m=\u001b[39m get_prompt(text, query)\n\u001b[0;32m---> 26\u001b[0m     p \u001b[38;5;241m=\u001b[39m \u001b[43mllama3_agent\u001b[49m\u001b[43m(\u001b[49m\u001b[43mp\u001b[49m\u001b[43m)\u001b[49m\n\u001b[1;32m     27\u001b[0m     \u001b[38;5;28;01mif\u001b[39;00m p \u001b[38;5;241m!=\u001b[39m \u001b[38;5;124m'\u001b[39m\u001b[38;5;124mNO\u001b[39m\u001b[38;5;124m'\u001b[39m:\n\u001b[1;32m     28\u001b[0m         \u001b[38;5;28;01mreturn\u001b[39;00m p\n",
      "Cell \u001b[0;32mIn[12], line 6\u001b[0m, in \u001b[0;36mllama3_agent\u001b[0;34m(q)\u001b[0m\n\u001b[1;32m      1\u001b[0m \u001b[38;5;28;01mdef\u001b[39;00m \u001b[38;5;21mllama3_agent\u001b[39m(q):\n\u001b[1;32m      2\u001b[0m     client \u001b[38;5;241m=\u001b[39m Groq(\n\u001b[1;32m      3\u001b[0m         api_key\u001b[38;5;241m=\u001b[39mos\u001b[38;5;241m.\u001b[39menviron\u001b[38;5;241m.\u001b[39mget(\u001b[38;5;124m\"\u001b[39m\u001b[38;5;124mGROQ_API_KEY\u001b[39m\u001b[38;5;124m\"\u001b[39m),\n\u001b[1;32m      4\u001b[0m     )\n\u001b[0;32m----> 6\u001b[0m     chat_completion \u001b[38;5;241m=\u001b[39m \u001b[43mclient\u001b[49m\u001b[38;5;241;43m.\u001b[39;49m\u001b[43mchat\u001b[49m\u001b[38;5;241;43m.\u001b[39;49m\u001b[43mcompletions\u001b[49m\u001b[38;5;241;43m.\u001b[39;49m\u001b[43mcreate\u001b[49m\u001b[43m(\u001b[49m\n\u001b[1;32m      7\u001b[0m \u001b[43m        \u001b[49m\u001b[43mmessages\u001b[49m\u001b[38;5;241;43m=\u001b[39;49m\u001b[43m[\u001b[49m\n\u001b[1;32m      8\u001b[0m \u001b[43m            \u001b[49m\u001b[43m{\u001b[49m\n\u001b[1;32m      9\u001b[0m \u001b[43m                \u001b[49m\u001b[38;5;124;43m\"\u001b[39;49m\u001b[38;5;124;43mrole\u001b[39;49m\u001b[38;5;124;43m\"\u001b[39;49m\u001b[43m:\u001b[49m\u001b[43m \u001b[49m\u001b[38;5;124;43m\"\u001b[39;49m\u001b[38;5;124;43muser\u001b[39;49m\u001b[38;5;124;43m\"\u001b[39;49m\u001b[43m,\u001b[49m\n\u001b[1;32m     10\u001b[0m \u001b[43m                \u001b[49m\u001b[38;5;124;43m\"\u001b[39;49m\u001b[38;5;124;43mcontent\u001b[39;49m\u001b[38;5;124;43m\"\u001b[39;49m\u001b[43m:\u001b[49m\u001b[43m \u001b[49m\u001b[43mq\u001b[49m\u001b[43m,\u001b[49m\n\u001b[1;32m     11\u001b[0m \u001b[43m            \u001b[49m\u001b[43m}\u001b[49m\n\u001b[1;32m     12\u001b[0m \u001b[43m        \u001b[49m\u001b[43m]\u001b[49m\u001b[43m,\u001b[49m\n\u001b[1;32m     13\u001b[0m \u001b[43m        \u001b[49m\u001b[43mmodel\u001b[49m\u001b[38;5;241;43m=\u001b[39;49m\u001b[38;5;124;43m\"\u001b[39;49m\u001b[38;5;124;43mllama3-70b-8192\u001b[39;49m\u001b[38;5;124;43m\"\u001b[39;49m\u001b[43m,\u001b[49m\n\u001b[1;32m     14\u001b[0m \u001b[43m    \u001b[49m\u001b[43m)\u001b[49m\n\u001b[1;32m     16\u001b[0m     \u001b[38;5;28mprint\u001b[39m(chat_completion\u001b[38;5;241m.\u001b[39mchoices[\u001b[38;5;241m0\u001b[39m]\u001b[38;5;241m.\u001b[39mmessage\u001b[38;5;241m.\u001b[39mcontent)\n\u001b[1;32m     17\u001b[0m     \u001b[38;5;28;01mreturn\u001b[39;00m chat_completion\u001b[38;5;241m.\u001b[39mchoices[\u001b[38;5;241m0\u001b[39m]\u001b[38;5;241m.\u001b[39mmessage\u001b[38;5;241m.\u001b[39mcontent\n",
      "File \u001b[0;32m~/.conda/envs/cv/lib/python3.11/site-packages/groq/resources/chat/completions.py:178\u001b[0m, in \u001b[0;36mCompletions.create\u001b[0;34m(self, messages, model, frequency_penalty, logit_bias, logprobs, max_tokens, n, presence_penalty, response_format, seed, stop, stream, temperature, tool_choice, tools, top_logprobs, top_p, user, extra_headers, extra_query, extra_body, timeout)\u001b[0m\n\u001b[1;32m    135\u001b[0m \u001b[38;5;28;01mdef\u001b[39;00m \u001b[38;5;21mcreate\u001b[39m(\n\u001b[1;32m    136\u001b[0m     \u001b[38;5;28mself\u001b[39m,\n\u001b[1;32m    137\u001b[0m     \u001b[38;5;241m*\u001b[39m,\n\u001b[0;32m   (...)\u001b[0m\n\u001b[1;32m    161\u001b[0m     timeout: \u001b[38;5;28mfloat\u001b[39m \u001b[38;5;241m|\u001b[39m httpx\u001b[38;5;241m.\u001b[39mTimeout \u001b[38;5;241m|\u001b[39m \u001b[38;5;28;01mNone\u001b[39;00m \u001b[38;5;241m|\u001b[39m NotGiven \u001b[38;5;241m=\u001b[39m NOT_GIVEN,\n\u001b[1;32m    162\u001b[0m ) \u001b[38;5;241m-\u001b[39m\u001b[38;5;241m>\u001b[39m ChatCompletion \u001b[38;5;241m|\u001b[39m Stream[ChatCompletionChunk]:\n\u001b[1;32m    163\u001b[0m \u001b[38;5;250m    \u001b[39m\u001b[38;5;124;03m\"\"\"\u001b[39;00m\n\u001b[1;32m    164\u001b[0m \u001b[38;5;124;03m    Creates a completion for a chat prompt\u001b[39;00m\n\u001b[1;32m    165\u001b[0m \n\u001b[0;32m   (...)\u001b[0m\n\u001b[1;32m    176\u001b[0m \u001b[38;5;124;03m      timeout: Override the client-level default timeout for this request, in seconds\u001b[39;00m\n\u001b[1;32m    177\u001b[0m \u001b[38;5;124;03m    \"\"\"\u001b[39;00m\n\u001b[0;32m--> 178\u001b[0m     \u001b[38;5;28;01mreturn\u001b[39;00m \u001b[38;5;28;43mself\u001b[39;49m\u001b[38;5;241;43m.\u001b[39;49m\u001b[43m_post\u001b[49m\u001b[43m(\u001b[49m\n\u001b[1;32m    179\u001b[0m \u001b[43m        \u001b[49m\u001b[38;5;124;43m\"\u001b[39;49m\u001b[38;5;124;43m/openai/v1/chat/completions\u001b[39;49m\u001b[38;5;124;43m\"\u001b[39;49m\u001b[43m,\u001b[49m\n\u001b[1;32m    180\u001b[0m \u001b[43m        \u001b[49m\u001b[43mbody\u001b[49m\u001b[38;5;241;43m=\u001b[39;49m\u001b[43mmaybe_transform\u001b[49m\u001b[43m(\u001b[49m\n\u001b[1;32m    181\u001b[0m \u001b[43m            \u001b[49m\u001b[43m{\u001b[49m\n\u001b[1;32m    182\u001b[0m \u001b[43m                \u001b[49m\u001b[38;5;124;43m\"\u001b[39;49m\u001b[38;5;124;43mmessages\u001b[39;49m\u001b[38;5;124;43m\"\u001b[39;49m\u001b[43m:\u001b[49m\u001b[43m \u001b[49m\u001b[43mmessages\u001b[49m\u001b[43m,\u001b[49m\n\u001b[1;32m    183\u001b[0m \u001b[43m                \u001b[49m\u001b[38;5;124;43m\"\u001b[39;49m\u001b[38;5;124;43mmodel\u001b[39;49m\u001b[38;5;124;43m\"\u001b[39;49m\u001b[43m:\u001b[49m\u001b[43m \u001b[49m\u001b[43mmodel\u001b[49m\u001b[43m,\u001b[49m\n\u001b[1;32m    184\u001b[0m \u001b[43m                \u001b[49m\u001b[38;5;124;43m\"\u001b[39;49m\u001b[38;5;124;43mfrequency_penalty\u001b[39;49m\u001b[38;5;124;43m\"\u001b[39;49m\u001b[43m:\u001b[49m\u001b[43m \u001b[49m\u001b[43mfrequency_penalty\u001b[49m\u001b[43m,\u001b[49m\n\u001b[1;32m    185\u001b[0m \u001b[43m                \u001b[49m\u001b[38;5;124;43m\"\u001b[39;49m\u001b[38;5;124;43mlogit_bias\u001b[39;49m\u001b[38;5;124;43m\"\u001b[39;49m\u001b[43m:\u001b[49m\u001b[43m \u001b[49m\u001b[43mlogit_bias\u001b[49m\u001b[43m,\u001b[49m\n\u001b[1;32m    186\u001b[0m \u001b[43m                \u001b[49m\u001b[38;5;124;43m\"\u001b[39;49m\u001b[38;5;124;43mlogprobs\u001b[39;49m\u001b[38;5;124;43m\"\u001b[39;49m\u001b[43m:\u001b[49m\u001b[43m \u001b[49m\u001b[43mlogprobs\u001b[49m\u001b[43m,\u001b[49m\n\u001b[1;32m    187\u001b[0m \u001b[43m                \u001b[49m\u001b[38;5;124;43m\"\u001b[39;49m\u001b[38;5;124;43mmax_tokens\u001b[39;49m\u001b[38;5;124;43m\"\u001b[39;49m\u001b[43m:\u001b[49m\u001b[43m \u001b[49m\u001b[43mmax_tokens\u001b[49m\u001b[43m,\u001b[49m\n\u001b[1;32m    188\u001b[0m \u001b[43m                \u001b[49m\u001b[38;5;124;43m\"\u001b[39;49m\u001b[38;5;124;43mn\u001b[39;49m\u001b[38;5;124;43m\"\u001b[39;49m\u001b[43m:\u001b[49m\u001b[43m \u001b[49m\u001b[43mn\u001b[49m\u001b[43m,\u001b[49m\n\u001b[1;32m    189\u001b[0m \u001b[43m                \u001b[49m\u001b[38;5;124;43m\"\u001b[39;49m\u001b[38;5;124;43mpresence_penalty\u001b[39;49m\u001b[38;5;124;43m\"\u001b[39;49m\u001b[43m:\u001b[49m\u001b[43m \u001b[49m\u001b[43mpresence_penalty\u001b[49m\u001b[43m,\u001b[49m\n\u001b[1;32m    190\u001b[0m \u001b[43m                \u001b[49m\u001b[38;5;124;43m\"\u001b[39;49m\u001b[38;5;124;43mresponse_format\u001b[39;49m\u001b[38;5;124;43m\"\u001b[39;49m\u001b[43m:\u001b[49m\u001b[43m \u001b[49m\u001b[43mresponse_format\u001b[49m\u001b[43m,\u001b[49m\n\u001b[1;32m    191\u001b[0m \u001b[43m                \u001b[49m\u001b[38;5;124;43m\"\u001b[39;49m\u001b[38;5;124;43mseed\u001b[39;49m\u001b[38;5;124;43m\"\u001b[39;49m\u001b[43m:\u001b[49m\u001b[43m \u001b[49m\u001b[43mseed\u001b[49m\u001b[43m,\u001b[49m\n\u001b[1;32m    192\u001b[0m \u001b[43m                \u001b[49m\u001b[38;5;124;43m\"\u001b[39;49m\u001b[38;5;124;43mstop\u001b[39;49m\u001b[38;5;124;43m\"\u001b[39;49m\u001b[43m:\u001b[49m\u001b[43m \u001b[49m\u001b[43mstop\u001b[49m\u001b[43m,\u001b[49m\n\u001b[1;32m    193\u001b[0m \u001b[43m                \u001b[49m\u001b[38;5;124;43m\"\u001b[39;49m\u001b[38;5;124;43mstream\u001b[39;49m\u001b[38;5;124;43m\"\u001b[39;49m\u001b[43m:\u001b[49m\u001b[43m \u001b[49m\u001b[43mstream\u001b[49m\u001b[43m,\u001b[49m\n\u001b[1;32m    194\u001b[0m \u001b[43m                \u001b[49m\u001b[38;5;124;43m\"\u001b[39;49m\u001b[38;5;124;43mtemperature\u001b[39;49m\u001b[38;5;124;43m\"\u001b[39;49m\u001b[43m:\u001b[49m\u001b[43m \u001b[49m\u001b[43mtemperature\u001b[49m\u001b[43m,\u001b[49m\n\u001b[1;32m    195\u001b[0m \u001b[43m                \u001b[49m\u001b[38;5;124;43m\"\u001b[39;49m\u001b[38;5;124;43mtool_choice\u001b[39;49m\u001b[38;5;124;43m\"\u001b[39;49m\u001b[43m:\u001b[49m\u001b[43m \u001b[49m\u001b[43mtool_choice\u001b[49m\u001b[43m,\u001b[49m\n\u001b[1;32m    196\u001b[0m \u001b[43m                \u001b[49m\u001b[38;5;124;43m\"\u001b[39;49m\u001b[38;5;124;43mtools\u001b[39;49m\u001b[38;5;124;43m\"\u001b[39;49m\u001b[43m:\u001b[49m\u001b[43m \u001b[49m\u001b[43mtools\u001b[49m\u001b[43m,\u001b[49m\n\u001b[1;32m    197\u001b[0m \u001b[43m                \u001b[49m\u001b[38;5;124;43m\"\u001b[39;49m\u001b[38;5;124;43mtop_logprobs\u001b[39;49m\u001b[38;5;124;43m\"\u001b[39;49m\u001b[43m:\u001b[49m\u001b[43m \u001b[49m\u001b[43mtop_logprobs\u001b[49m\u001b[43m,\u001b[49m\n\u001b[1;32m    198\u001b[0m \u001b[43m                \u001b[49m\u001b[38;5;124;43m\"\u001b[39;49m\u001b[38;5;124;43mtop_p\u001b[39;49m\u001b[38;5;124;43m\"\u001b[39;49m\u001b[43m:\u001b[49m\u001b[43m \u001b[49m\u001b[43mtop_p\u001b[49m\u001b[43m,\u001b[49m\n\u001b[1;32m    199\u001b[0m \u001b[43m                \u001b[49m\u001b[38;5;124;43m\"\u001b[39;49m\u001b[38;5;124;43muser\u001b[39;49m\u001b[38;5;124;43m\"\u001b[39;49m\u001b[43m:\u001b[49m\u001b[43m \u001b[49m\u001b[43muser\u001b[49m\u001b[43m,\u001b[49m\n\u001b[1;32m    200\u001b[0m \u001b[43m            \u001b[49m\u001b[43m}\u001b[49m\u001b[43m,\u001b[49m\n\u001b[1;32m    201\u001b[0m \u001b[43m            \u001b[49m\u001b[43mcompletion_create_params\u001b[49m\u001b[38;5;241;43m.\u001b[39;49m\u001b[43mCompletionCreateParams\u001b[49m\u001b[43m,\u001b[49m\n\u001b[1;32m    202\u001b[0m \u001b[43m        \u001b[49m\u001b[43m)\u001b[49m\u001b[43m,\u001b[49m\n\u001b[1;32m    203\u001b[0m \u001b[43m        \u001b[49m\u001b[43moptions\u001b[49m\u001b[38;5;241;43m=\u001b[39;49m\u001b[43mmake_request_options\u001b[49m\u001b[43m(\u001b[49m\n\u001b[1;32m    204\u001b[0m \u001b[43m            \u001b[49m\u001b[43mextra_headers\u001b[49m\u001b[38;5;241;43m=\u001b[39;49m\u001b[43mextra_headers\u001b[49m\u001b[43m,\u001b[49m\u001b[43m \u001b[49m\u001b[43mextra_query\u001b[49m\u001b[38;5;241;43m=\u001b[39;49m\u001b[43mextra_query\u001b[49m\u001b[43m,\u001b[49m\u001b[43m \u001b[49m\u001b[43mextra_body\u001b[49m\u001b[38;5;241;43m=\u001b[39;49m\u001b[43mextra_body\u001b[49m\u001b[43m,\u001b[49m\u001b[43m \u001b[49m\u001b[43mtimeout\u001b[49m\u001b[38;5;241;43m=\u001b[39;49m\u001b[43mtimeout\u001b[49m\n\u001b[1;32m    205\u001b[0m \u001b[43m        \u001b[49m\u001b[43m)\u001b[49m\u001b[43m,\u001b[49m\n\u001b[1;32m    206\u001b[0m \u001b[43m        \u001b[49m\u001b[43mcast_to\u001b[49m\u001b[38;5;241;43m=\u001b[39;49m\u001b[43mChatCompletion\u001b[49m\u001b[43m,\u001b[49m\n\u001b[1;32m    207\u001b[0m \u001b[43m        \u001b[49m\u001b[43mstream\u001b[49m\u001b[38;5;241;43m=\u001b[39;49m\u001b[43mstream\u001b[49m\u001b[43m \u001b[49m\u001b[38;5;129;43;01mor\u001b[39;49;00m\u001b[43m \u001b[49m\u001b[38;5;28;43;01mFalse\u001b[39;49;00m\u001b[43m,\u001b[49m\n\u001b[1;32m    208\u001b[0m \u001b[43m        \u001b[49m\u001b[43mstream_cls\u001b[49m\u001b[38;5;241;43m=\u001b[39;49m\u001b[43mStream\u001b[49m\u001b[43m[\u001b[49m\u001b[43mChatCompletionChunk\u001b[49m\u001b[43m]\u001b[49m\u001b[43m,\u001b[49m\n\u001b[1;32m    209\u001b[0m \u001b[43m    \u001b[49m\u001b[43m)\u001b[49m\n",
      "File \u001b[0;32m~/.conda/envs/cv/lib/python3.11/site-packages/groq/_base_client.py:1194\u001b[0m, in \u001b[0;36mSyncAPIClient.post\u001b[0;34m(self, path, cast_to, body, options, files, stream, stream_cls)\u001b[0m\n\u001b[1;32m   1180\u001b[0m \u001b[38;5;28;01mdef\u001b[39;00m \u001b[38;5;21mpost\u001b[39m(\n\u001b[1;32m   1181\u001b[0m     \u001b[38;5;28mself\u001b[39m,\n\u001b[1;32m   1182\u001b[0m     path: \u001b[38;5;28mstr\u001b[39m,\n\u001b[0;32m   (...)\u001b[0m\n\u001b[1;32m   1189\u001b[0m     stream_cls: \u001b[38;5;28mtype\u001b[39m[_StreamT] \u001b[38;5;241m|\u001b[39m \u001b[38;5;28;01mNone\u001b[39;00m \u001b[38;5;241m=\u001b[39m \u001b[38;5;28;01mNone\u001b[39;00m,\n\u001b[1;32m   1190\u001b[0m ) \u001b[38;5;241m-\u001b[39m\u001b[38;5;241m>\u001b[39m ResponseT \u001b[38;5;241m|\u001b[39m _StreamT:\n\u001b[1;32m   1191\u001b[0m     opts \u001b[38;5;241m=\u001b[39m FinalRequestOptions\u001b[38;5;241m.\u001b[39mconstruct(\n\u001b[1;32m   1192\u001b[0m         method\u001b[38;5;241m=\u001b[39m\u001b[38;5;124m\"\u001b[39m\u001b[38;5;124mpost\u001b[39m\u001b[38;5;124m\"\u001b[39m, url\u001b[38;5;241m=\u001b[39mpath, json_data\u001b[38;5;241m=\u001b[39mbody, files\u001b[38;5;241m=\u001b[39mto_httpx_files(files), \u001b[38;5;241m*\u001b[39m\u001b[38;5;241m*\u001b[39moptions\n\u001b[1;32m   1193\u001b[0m     )\n\u001b[0;32m-> 1194\u001b[0m     \u001b[38;5;28;01mreturn\u001b[39;00m cast(ResponseT, \u001b[38;5;28;43mself\u001b[39;49m\u001b[38;5;241;43m.\u001b[39;49m\u001b[43mrequest\u001b[49m\u001b[43m(\u001b[49m\u001b[43mcast_to\u001b[49m\u001b[43m,\u001b[49m\u001b[43m \u001b[49m\u001b[43mopts\u001b[49m\u001b[43m,\u001b[49m\u001b[43m \u001b[49m\u001b[43mstream\u001b[49m\u001b[38;5;241;43m=\u001b[39;49m\u001b[43mstream\u001b[49m\u001b[43m,\u001b[49m\u001b[43m \u001b[49m\u001b[43mstream_cls\u001b[49m\u001b[38;5;241;43m=\u001b[39;49m\u001b[43mstream_cls\u001b[49m\u001b[43m)\u001b[49m)\n",
      "File \u001b[0;32m~/.conda/envs/cv/lib/python3.11/site-packages/groq/_base_client.py:896\u001b[0m, in \u001b[0;36mSyncAPIClient.request\u001b[0;34m(self, cast_to, options, remaining_retries, stream, stream_cls)\u001b[0m\n\u001b[1;32m    887\u001b[0m \u001b[38;5;28;01mdef\u001b[39;00m \u001b[38;5;21mrequest\u001b[39m(\n\u001b[1;32m    888\u001b[0m     \u001b[38;5;28mself\u001b[39m,\n\u001b[1;32m    889\u001b[0m     cast_to: Type[ResponseT],\n\u001b[0;32m   (...)\u001b[0m\n\u001b[1;32m    894\u001b[0m     stream_cls: \u001b[38;5;28mtype\u001b[39m[_StreamT] \u001b[38;5;241m|\u001b[39m \u001b[38;5;28;01mNone\u001b[39;00m \u001b[38;5;241m=\u001b[39m \u001b[38;5;28;01mNone\u001b[39;00m,\n\u001b[1;32m    895\u001b[0m ) \u001b[38;5;241m-\u001b[39m\u001b[38;5;241m>\u001b[39m ResponseT \u001b[38;5;241m|\u001b[39m _StreamT:\n\u001b[0;32m--> 896\u001b[0m     \u001b[38;5;28;01mreturn\u001b[39;00m \u001b[38;5;28;43mself\u001b[39;49m\u001b[38;5;241;43m.\u001b[39;49m\u001b[43m_request\u001b[49m\u001b[43m(\u001b[49m\n\u001b[1;32m    897\u001b[0m \u001b[43m        \u001b[49m\u001b[43mcast_to\u001b[49m\u001b[38;5;241;43m=\u001b[39;49m\u001b[43mcast_to\u001b[49m\u001b[43m,\u001b[49m\n\u001b[1;32m    898\u001b[0m \u001b[43m        \u001b[49m\u001b[43moptions\u001b[49m\u001b[38;5;241;43m=\u001b[39;49m\u001b[43moptions\u001b[49m\u001b[43m,\u001b[49m\n\u001b[1;32m    899\u001b[0m \u001b[43m        \u001b[49m\u001b[43mstream\u001b[49m\u001b[38;5;241;43m=\u001b[39;49m\u001b[43mstream\u001b[49m\u001b[43m,\u001b[49m\n\u001b[1;32m    900\u001b[0m \u001b[43m        \u001b[49m\u001b[43mstream_cls\u001b[49m\u001b[38;5;241;43m=\u001b[39;49m\u001b[43mstream_cls\u001b[49m\u001b[43m,\u001b[49m\n\u001b[1;32m    901\u001b[0m \u001b[43m        \u001b[49m\u001b[43mremaining_retries\u001b[49m\u001b[38;5;241;43m=\u001b[39;49m\u001b[43mremaining_retries\u001b[49m\u001b[43m,\u001b[49m\n\u001b[1;32m    902\u001b[0m \u001b[43m    \u001b[49m\u001b[43m)\u001b[49m\n",
      "File \u001b[0;32m~/.conda/envs/cv/lib/python3.11/site-packages/groq/_base_client.py:972\u001b[0m, in \u001b[0;36mSyncAPIClient._request\u001b[0;34m(self, cast_to, options, remaining_retries, stream, stream_cls)\u001b[0m\n\u001b[1;32m    970\u001b[0m \u001b[38;5;28;01mif\u001b[39;00m retries \u001b[38;5;241m>\u001b[39m \u001b[38;5;241m0\u001b[39m \u001b[38;5;129;01mand\u001b[39;00m \u001b[38;5;28mself\u001b[39m\u001b[38;5;241m.\u001b[39m_should_retry(err\u001b[38;5;241m.\u001b[39mresponse):\n\u001b[1;32m    971\u001b[0m     err\u001b[38;5;241m.\u001b[39mresponse\u001b[38;5;241m.\u001b[39mclose()\n\u001b[0;32m--> 972\u001b[0m     \u001b[38;5;28;01mreturn\u001b[39;00m \u001b[38;5;28;43mself\u001b[39;49m\u001b[38;5;241;43m.\u001b[39;49m\u001b[43m_retry_request\u001b[49m\u001b[43m(\u001b[49m\n\u001b[1;32m    973\u001b[0m \u001b[43m        \u001b[49m\u001b[43moptions\u001b[49m\u001b[43m,\u001b[49m\n\u001b[1;32m    974\u001b[0m \u001b[43m        \u001b[49m\u001b[43mcast_to\u001b[49m\u001b[43m,\u001b[49m\n\u001b[1;32m    975\u001b[0m \u001b[43m        \u001b[49m\u001b[43mretries\u001b[49m\u001b[43m,\u001b[49m\n\u001b[1;32m    976\u001b[0m \u001b[43m        \u001b[49m\u001b[43merr\u001b[49m\u001b[38;5;241;43m.\u001b[39;49m\u001b[43mresponse\u001b[49m\u001b[38;5;241;43m.\u001b[39;49m\u001b[43mheaders\u001b[49m\u001b[43m,\u001b[49m\n\u001b[1;32m    977\u001b[0m \u001b[43m        \u001b[49m\u001b[43mstream\u001b[49m\u001b[38;5;241;43m=\u001b[39;49m\u001b[43mstream\u001b[49m\u001b[43m,\u001b[49m\n\u001b[1;32m    978\u001b[0m \u001b[43m        \u001b[49m\u001b[43mstream_cls\u001b[49m\u001b[38;5;241;43m=\u001b[39;49m\u001b[43mstream_cls\u001b[49m\u001b[43m,\u001b[49m\n\u001b[1;32m    979\u001b[0m \u001b[43m    \u001b[49m\u001b[43m)\u001b[49m\n\u001b[1;32m    981\u001b[0m \u001b[38;5;66;03m# If the response is streamed then we need to explicitly read the response\u001b[39;00m\n\u001b[1;32m    982\u001b[0m \u001b[38;5;66;03m# to completion before attempting to access the response text.\u001b[39;00m\n\u001b[1;32m    983\u001b[0m \u001b[38;5;28;01mif\u001b[39;00m \u001b[38;5;129;01mnot\u001b[39;00m err\u001b[38;5;241m.\u001b[39mresponse\u001b[38;5;241m.\u001b[39mis_closed:\n",
      "File \u001b[0;32m~/.conda/envs/cv/lib/python3.11/site-packages/groq/_base_client.py:1020\u001b[0m, in \u001b[0;36mSyncAPIClient._retry_request\u001b[0;34m(self, options, cast_to, remaining_retries, response_headers, stream, stream_cls)\u001b[0m\n\u001b[1;32m   1016\u001b[0m \u001b[38;5;66;03m# In a synchronous context we are blocking the entire thread. Up to the library user to run the client in a\u001b[39;00m\n\u001b[1;32m   1017\u001b[0m \u001b[38;5;66;03m# different thread if necessary.\u001b[39;00m\n\u001b[1;32m   1018\u001b[0m time\u001b[38;5;241m.\u001b[39msleep(timeout)\n\u001b[0;32m-> 1020\u001b[0m \u001b[38;5;28;01mreturn\u001b[39;00m \u001b[38;5;28;43mself\u001b[39;49m\u001b[38;5;241;43m.\u001b[39;49m\u001b[43m_request\u001b[49m\u001b[43m(\u001b[49m\n\u001b[1;32m   1021\u001b[0m \u001b[43m    \u001b[49m\u001b[43moptions\u001b[49m\u001b[38;5;241;43m=\u001b[39;49m\u001b[43moptions\u001b[49m\u001b[43m,\u001b[49m\n\u001b[1;32m   1022\u001b[0m \u001b[43m    \u001b[49m\u001b[43mcast_to\u001b[49m\u001b[38;5;241;43m=\u001b[39;49m\u001b[43mcast_to\u001b[49m\u001b[43m,\u001b[49m\n\u001b[1;32m   1023\u001b[0m \u001b[43m    \u001b[49m\u001b[43mremaining_retries\u001b[49m\u001b[38;5;241;43m=\u001b[39;49m\u001b[43mremaining\u001b[49m\u001b[43m,\u001b[49m\n\u001b[1;32m   1024\u001b[0m \u001b[43m    \u001b[49m\u001b[43mstream\u001b[49m\u001b[38;5;241;43m=\u001b[39;49m\u001b[43mstream\u001b[49m\u001b[43m,\u001b[49m\n\u001b[1;32m   1025\u001b[0m \u001b[43m    \u001b[49m\u001b[43mstream_cls\u001b[49m\u001b[38;5;241;43m=\u001b[39;49m\u001b[43mstream_cls\u001b[49m\u001b[43m,\u001b[49m\n\u001b[1;32m   1026\u001b[0m \u001b[43m\u001b[49m\u001b[43m)\u001b[49m\n",
      "File \u001b[0;32m~/.conda/envs/cv/lib/python3.11/site-packages/groq/_base_client.py:972\u001b[0m, in \u001b[0;36mSyncAPIClient._request\u001b[0;34m(self, cast_to, options, remaining_retries, stream, stream_cls)\u001b[0m\n\u001b[1;32m    970\u001b[0m \u001b[38;5;28;01mif\u001b[39;00m retries \u001b[38;5;241m>\u001b[39m \u001b[38;5;241m0\u001b[39m \u001b[38;5;129;01mand\u001b[39;00m \u001b[38;5;28mself\u001b[39m\u001b[38;5;241m.\u001b[39m_should_retry(err\u001b[38;5;241m.\u001b[39mresponse):\n\u001b[1;32m    971\u001b[0m     err\u001b[38;5;241m.\u001b[39mresponse\u001b[38;5;241m.\u001b[39mclose()\n\u001b[0;32m--> 972\u001b[0m     \u001b[38;5;28;01mreturn\u001b[39;00m \u001b[38;5;28;43mself\u001b[39;49m\u001b[38;5;241;43m.\u001b[39;49m\u001b[43m_retry_request\u001b[49m\u001b[43m(\u001b[49m\n\u001b[1;32m    973\u001b[0m \u001b[43m        \u001b[49m\u001b[43moptions\u001b[49m\u001b[43m,\u001b[49m\n\u001b[1;32m    974\u001b[0m \u001b[43m        \u001b[49m\u001b[43mcast_to\u001b[49m\u001b[43m,\u001b[49m\n\u001b[1;32m    975\u001b[0m \u001b[43m        \u001b[49m\u001b[43mretries\u001b[49m\u001b[43m,\u001b[49m\n\u001b[1;32m    976\u001b[0m \u001b[43m        \u001b[49m\u001b[43merr\u001b[49m\u001b[38;5;241;43m.\u001b[39;49m\u001b[43mresponse\u001b[49m\u001b[38;5;241;43m.\u001b[39;49m\u001b[43mheaders\u001b[49m\u001b[43m,\u001b[49m\n\u001b[1;32m    977\u001b[0m \u001b[43m        \u001b[49m\u001b[43mstream\u001b[49m\u001b[38;5;241;43m=\u001b[39;49m\u001b[43mstream\u001b[49m\u001b[43m,\u001b[49m\n\u001b[1;32m    978\u001b[0m \u001b[43m        \u001b[49m\u001b[43mstream_cls\u001b[49m\u001b[38;5;241;43m=\u001b[39;49m\u001b[43mstream_cls\u001b[49m\u001b[43m,\u001b[49m\n\u001b[1;32m    979\u001b[0m \u001b[43m    \u001b[49m\u001b[43m)\u001b[49m\n\u001b[1;32m    981\u001b[0m \u001b[38;5;66;03m# If the response is streamed then we need to explicitly read the response\u001b[39;00m\n\u001b[1;32m    982\u001b[0m \u001b[38;5;66;03m# to completion before attempting to access the response text.\u001b[39;00m\n\u001b[1;32m    983\u001b[0m \u001b[38;5;28;01mif\u001b[39;00m \u001b[38;5;129;01mnot\u001b[39;00m err\u001b[38;5;241m.\u001b[39mresponse\u001b[38;5;241m.\u001b[39mis_closed:\n",
      "File \u001b[0;32m~/.conda/envs/cv/lib/python3.11/site-packages/groq/_base_client.py:1020\u001b[0m, in \u001b[0;36mSyncAPIClient._retry_request\u001b[0;34m(self, options, cast_to, remaining_retries, response_headers, stream, stream_cls)\u001b[0m\n\u001b[1;32m   1016\u001b[0m \u001b[38;5;66;03m# In a synchronous context we are blocking the entire thread. Up to the library user to run the client in a\u001b[39;00m\n\u001b[1;32m   1017\u001b[0m \u001b[38;5;66;03m# different thread if necessary.\u001b[39;00m\n\u001b[1;32m   1018\u001b[0m time\u001b[38;5;241m.\u001b[39msleep(timeout)\n\u001b[0;32m-> 1020\u001b[0m \u001b[38;5;28;01mreturn\u001b[39;00m \u001b[38;5;28;43mself\u001b[39;49m\u001b[38;5;241;43m.\u001b[39;49m\u001b[43m_request\u001b[49m\u001b[43m(\u001b[49m\n\u001b[1;32m   1021\u001b[0m \u001b[43m    \u001b[49m\u001b[43moptions\u001b[49m\u001b[38;5;241;43m=\u001b[39;49m\u001b[43moptions\u001b[49m\u001b[43m,\u001b[49m\n\u001b[1;32m   1022\u001b[0m \u001b[43m    \u001b[49m\u001b[43mcast_to\u001b[49m\u001b[38;5;241;43m=\u001b[39;49m\u001b[43mcast_to\u001b[49m\u001b[43m,\u001b[49m\n\u001b[1;32m   1023\u001b[0m \u001b[43m    \u001b[49m\u001b[43mremaining_retries\u001b[49m\u001b[38;5;241;43m=\u001b[39;49m\u001b[43mremaining\u001b[49m\u001b[43m,\u001b[49m\n\u001b[1;32m   1024\u001b[0m \u001b[43m    \u001b[49m\u001b[43mstream\u001b[49m\u001b[38;5;241;43m=\u001b[39;49m\u001b[43mstream\u001b[49m\u001b[43m,\u001b[49m\n\u001b[1;32m   1025\u001b[0m \u001b[43m    \u001b[49m\u001b[43mstream_cls\u001b[49m\u001b[38;5;241;43m=\u001b[39;49m\u001b[43mstream_cls\u001b[49m\u001b[43m,\u001b[49m\n\u001b[1;32m   1026\u001b[0m \u001b[43m\u001b[49m\u001b[43m)\u001b[49m\n",
      "File \u001b[0;32m~/.conda/envs/cv/lib/python3.11/site-packages/groq/_base_client.py:987\u001b[0m, in \u001b[0;36mSyncAPIClient._request\u001b[0;34m(self, cast_to, options, remaining_retries, stream, stream_cls)\u001b[0m\n\u001b[1;32m    984\u001b[0m         err\u001b[38;5;241m.\u001b[39mresponse\u001b[38;5;241m.\u001b[39mread()\n\u001b[1;32m    986\u001b[0m     log\u001b[38;5;241m.\u001b[39mdebug(\u001b[38;5;124m\"\u001b[39m\u001b[38;5;124mRe-raising status error\u001b[39m\u001b[38;5;124m\"\u001b[39m)\n\u001b[0;32m--> 987\u001b[0m     \u001b[38;5;28;01mraise\u001b[39;00m \u001b[38;5;28mself\u001b[39m\u001b[38;5;241m.\u001b[39m_make_status_error_from_response(err\u001b[38;5;241m.\u001b[39mresponse) \u001b[38;5;28;01mfrom\u001b[39;00m \u001b[38;5;28;01mNone\u001b[39;00m\n\u001b[1;32m    989\u001b[0m \u001b[38;5;28;01mreturn\u001b[39;00m \u001b[38;5;28mself\u001b[39m\u001b[38;5;241m.\u001b[39m_process_response(\n\u001b[1;32m    990\u001b[0m     cast_to\u001b[38;5;241m=\u001b[39mcast_to,\n\u001b[1;32m    991\u001b[0m     options\u001b[38;5;241m=\u001b[39moptions,\n\u001b[0;32m   (...)\u001b[0m\n\u001b[1;32m    994\u001b[0m     stream_cls\u001b[38;5;241m=\u001b[39mstream_cls,\n\u001b[1;32m    995\u001b[0m )\n",
      "\u001b[0;31mRateLimitError\u001b[0m: Error code: 429 - {'error': {'message': 'Rate limit reached for model `llama3-70b-8192` in organization `org_01hqjr85w6ffh89gthy5wjn0wy` on tokens per minute (TPM): Limit 3500, Used 2880, Requested ~5718. Please try again in 1m27.378714285s. Visit https://console.groq.com/docs/rate-limits for more information.', 'type': 'tokens', 'code': 'rate_limit_exceeded'}}"
     ]
    }
   ],
   "source": [
    "import platform\n",
    "playwright = await async_playwright().start()\n",
    "\n",
    "browser = await playwright.chromium.launch(headless=False)  # Launch Chromium browser\n",
    "page = await browser.new_page()  # Open a new page\n",
    "await page.goto('https://www.google.in')\n",
    "\n",
    "await get_information1('What are the places to visit in India')"
   ]
  },
  {
   "cell_type": "code",
   "execution_count": 35,
   "id": "bea6d880",
   "metadata": {},
   "outputs": [
    {
     "name": "stdout",
     "output_type": "stream",
     "text": [
      "Thought: The webpage appears to be the Google homepage, and the task is to search for the latest movies on Decider Stream-It-Or-Skip-It.\n",
      "\n",
      "Action: Type 9; What latest movies on decider stream-it-or-skip-it\n",
      "******************** Thought: The webpage appears to be the Google homepage, and the task is to search for the latest movies on Decider Stream-It-Or-Skip-It.\n",
      "\n",
      "Action: Type 9; What latest movies on decider stream-it-or-skip-it\n",
      "*************** Thought: The webpage appears to be the Google homepage, and the task is to search for the latest movies on Decider Stream-It-Or-Skip-It.\n",
      "\n",
      "Action: Type 9; What latest movies on decider stream-it-or-skip-it\n",
      "{'Type': ('9', 'What latest movies on decider stream-it-or-skip-it')}\n",
      "Thought: I understand the task is to find the latest movies on Decider Stream-It-Or-Skip-It. \n",
      "\n",
      "Action: Type 5; What latest movies on decider stream-it-or-skip-it\n",
      "******************** Thought: I understand the task is to find the latest movies on Decider Stream-It-Or-Skip-It. \n",
      "\n",
      "Action: Type 5; What latest movies on decider stream-it-or-skip-it\n",
      "*************** Thought: I understand the task is to find the latest movies on Decider Stream-It-Or-Skip-It. \n",
      "\n",
      "Action: Type 5; What latest movies on decider stream-it-or-skip-it\n",
      "{'Type': ('5', 'What latest movies on decider stream-it-or-skip-it')}\n",
      "Thought: I've analyzed the webpage and found a relevant section with articles and links. I'll try to navigate to the \"Stream It Or Skip It\" section.\n",
      "\n",
      "Action: Click 30\n",
      "******************** Thought: I've analyzed the webpage and found a relevant section with articles and links. I'll try to navigate to the \"Stream It Or Skip It\" section.\n",
      "\n",
      "Action: Click 30\n",
      "*************** Thought: I've analyzed the webpage and found a relevant section with articles and links. I'll try to navigate to the \"Stream It Or Skip It\" section.\n",
      "\n",
      "Action: Click 30\n",
      "{'Click': ('30',)}\n",
      "Here are the latest movies on Decider's \"Stream It Or Skip It\" list:\n",
      "\n",
      "1. 'Broken Horses' on Hulu\n",
      "2. 'Hack Your Health: The Secrets of Your Gut' on Netflix\n",
      "3. 'Thank You, Goodnight: The Bon Jovi Story' on Hulu\n",
      "4. 'The Asunta Case' on Netflix\n",
      "5. 'Curious Caterer: Foiled Plans' on Hallmark Mystery\n",
      "6. 'Knuckles' on Paramount+\n",
      "7. 'Dead Boy Detectives' on Netflix\n",
      "8. 'Them: The Scare' on Prime Video\n",
      "9. 'TLC Forever' on Netflix\n",
      "10. 'Miller's Girl' on Netflix\n",
      "11. 'King Richard' on Netflix\n",
      "12. 'Deliver Me' on Netflix\n",
      "13. 'Arthur the King' on VOD\n",
      "14. 'Amar Singh Chamkila' on Netflix\n",
      "15. 'The Big Door Prize' Season 2 on Apple TV+\n",
      "16. 'Tiger' on Disney+\n",
      "17. 'Fight For Paradise: Who Can You Trust?' on Netflix\n",
      "18. 'The Express Way With Dulé Hill' on PBS\n",
      "19. 'Brigands: The Quest For Gold' on Netflix\n"
     ]
    },
    {
     "data": {
      "text/plain": [
       "'Here are the latest movies on Decider\\'s \"Stream It Or Skip It\" list:\\n\\n1. \\'Broken Horses\\' on Hulu\\n2. \\'Hack Your Health: The Secrets of Your Gut\\' on Netflix\\n3. \\'Thank You, Goodnight: The Bon Jovi Story\\' on Hulu\\n4. \\'The Asunta Case\\' on Netflix\\n5. \\'Curious Caterer: Foiled Plans\\' on Hallmark Mystery\\n6. \\'Knuckles\\' on Paramount+\\n7. \\'Dead Boy Detectives\\' on Netflix\\n8. \\'Them: The Scare\\' on Prime Video\\n9. \\'TLC Forever\\' on Netflix\\n10. \\'Miller\\'s Girl\\' on Netflix\\n11. \\'King Richard\\' on Netflix\\n12. \\'Deliver Me\\' on Netflix\\n13. \\'Arthur the King\\' on VOD\\n14. \\'Amar Singh Chamkila\\' on Netflix\\n15. \\'The Big Door Prize\\' Season 2 on Apple TV+\\n16. \\'Tiger\\' on Disney+\\n17. \\'Fight For Paradise: Who Can You Trust?\\' on Netflix\\n18. \\'The Express Way With Dulé Hill\\' on PBS\\n19. \\'Brigands: The Quest For Gold\\' on Netflix'"
      ]
     },
     "execution_count": 35,
     "metadata": {},
     "output_type": "execute_result"
    }
   ],
   "source": [
    "\n",
    "\n",
    "import platform\n",
    "playwright = await async_playwright().start()\n",
    "\n",
    "browser = await playwright.chromium.launch(headless=False)  # Launch Chromium browser\n",
    "page = await browser.new_page()  # Open a new page\n",
    "await page.goto('https://www.google.in')\n",
    "\n",
    "await get_information1('What latest movies on decider stream-it-or-skip-it')"
   ]
  },
  {
   "cell_type": "code",
   "execution_count": 299,
   "id": "9cf6b97d",
   "metadata": {},
   "outputs": [
    {
     "name": "stdout",
     "output_type": "stream",
     "text": [
      "Thought: This is the Google homepage with various links and a search bar. \n",
      "Action: Type 9; Stream It Or Skip It: ‘The Asunta Case’\n",
      "******************** Thought: This is the Google homepage with various links and a search bar. \n",
      "Action: Type 9; Stream It Or Skip It: ‘The Asunta Case’\n",
      "*************** Thought: This is the Google homepage with various links and a search bar. \n",
      "Action: Type 9; Stream It Or Skip It: ‘The Asunta Case’\n",
      "{'Type': ('9', 'Stream It Or Skip It: ‘The Asunta Case’')}\n",
      "Thought: It appears to be the Google homepage, and the task is to search for something.\n",
      "\n",
      "Action: Type 5; Stream It Or Skip It: ‘The Asunta Case’\n",
      "******************** Thought: It appears to be the Google homepage, and the task is to search for something.\n",
      "\n",
      "Action: Type 5; Stream It Or Skip It: ‘The Asunta Case’\n",
      "*************** Thought: It appears to be the Google homepage, and the task is to search for something.\n",
      "\n",
      "Action: Type 5; Stream It Or Skip It: ‘The Asunta Case’\n",
      "{'Type': ('5', 'Stream It Or Skip It: ‘The Asunta Case’')}\n",
      "Thought: The webpage is a search result page from Google, and the question is about streaming or skipping a Netflix series called \"The Asunta Case\".\n",
      "\n",
      "Action: Click 18\n",
      "******************** Thought: The webpage is a search result page from Google, and the question is about streaming or skipping a Netflix series called \"The Asunta Case\".\n",
      "\n",
      "Action: Click 18\n",
      "*************** Thought: The webpage is a search result page from Google, and the question is about streaming or skipping a Netflix series called \"The Asunta Case\".\n",
      "\n",
      "Action: Click 18\n",
      "{'Click': ('18',)}\n",
      "STREAM IT.\n"
     ]
    },
    {
     "data": {
      "text/plain": [
       "'STREAM IT.'"
      ]
     },
     "execution_count": 299,
     "metadata": {},
     "output_type": "execute_result"
    }
   ],
   "source": [
    "\n",
    "    \n",
    "\n",
    "import platform\n",
    "playwright = await async_playwright().start()\n",
    "\n",
    "browser = await playwright.chromium.launch(headless=False)  # Launch Chromium browser\n",
    "page = await browser.new_page()  # Open a new page\n",
    "await page.goto('https://www.google.in')\n",
    "\n",
    "await get_information1('Stream It Or Skip It: ‘The Asunta Case’')"
   ]
  },
  {
   "cell_type": "code",
   "execution_count": 36,
   "id": "6d4beda8",
   "metadata": {},
   "outputs": [
    {
     "name": "stdout",
     "output_type": "stream",
     "text": [
      "Thought: The webpage appears to be the Google homepage. To summarize a Wikipedia article about India, I need to search for \"India Wikipedia\" and then interact with the resulting webpage.\n",
      "\n",
      "Action: Type 5; India Wikipedia\n",
      "******************** Thought: The webpage appears to be the Google homepage. To summarize a Wikipedia article about India, I need to search for \"India Wikipedia\" and then interact with the resulting webpage.\n",
      "\n",
      "Action: Type 5; India Wikipedia\n",
      "*************** Thought: The webpage appears to be the Google homepage. To summarize a Wikipedia article about India, I need to search for \"India Wikipedia\" and then interact with the resulting webpage.\n",
      "\n",
      "Action: Type 5; India Wikipedia\n",
      "{'Type': ('5', 'India Wikipedia')}\n",
      "Thought: The webpage is a Wikipedia article about India, and I need to summarize it.\n",
      "\n",
      "Action: Wait\n",
      "******************** Thought: The webpage is a Wikipedia article about India, and I need to summarize it.\n",
      "\n",
      "Action: Wait\n",
      "*************** Thought: The webpage is a Wikipedia article about India, and I need to summarize it.\n",
      "\n",
      "Action: Wait\n",
      "Wait\n"
     ]
    },
    {
     "name": "stderr",
     "output_type": "stream",
     "text": [
      "Future exception was never retrieved\n",
      "future: <Future finished exception=Exception('Connection closed while reading from the driver')>\n",
      "Exception: Connection closed while reading from the driver\n",
      "Future exception was never retrieved\n",
      "future: <Future finished exception=BrokenPipeError(32, 'Broken pipe')>\n",
      "Traceback (most recent call last):\n",
      "  File \"/Users/pradeep.borado/.conda/envs/cv/lib/python3.11/asyncio/unix_events.py\", line 686, in write\n",
      "    n = os.write(self._fileno, data)\n",
      "        ^^^^^^^^^^^^^^^^^^^^^^^^^^^^\n",
      "BrokenPipeError: [Errno 32] Broken pipe\n",
      "Future exception was never retrieved\n",
      "future: <Future finished exception=Exception('Connection closed while reading from the driver')>\n",
      "Exception: Connection closed while reading from the driver\n",
      "Future exception was never retrieved\n",
      "future: <Future finished exception=Exception('Connection closed while reading from the driver')>\n",
      "Exception: Connection closed while reading from the driver\n",
      "Future exception was never retrieved\n",
      "future: <Future finished exception=Exception('Connection closed while reading from the driver')>\n",
      "Exception: Connection closed while reading from the driver\n",
      "Future exception was never retrieved\n",
      "future: <Future finished exception=Exception('Connection closed while reading from the driver')>\n",
      "Exception: Connection closed while reading from the driver\n",
      "Future exception was never retrieved\n",
      "future: <Future finished exception=BrokenPipeError(32, 'Broken pipe')>\n",
      "Traceback (most recent call last):\n",
      "  File \"/Users/pradeep.borado/.conda/envs/cv/lib/python3.11/asyncio/unix_events.py\", line 686, in write\n",
      "    n = os.write(self._fileno, data)\n",
      "        ^^^^^^^^^^^^^^^^^^^^^^^^^^^^\n",
      "BrokenPipeError: [Errno 32] Broken pipe\n",
      "Future exception was never retrieved\n",
      "future: <Future finished exception=Exception('Connection closed while reading from the driver')>\n",
      "Exception: Connection closed while reading from the driver\n",
      "Future exception was never retrieved\n",
      "future: <Future finished exception=BrokenPipeError(32, 'Broken pipe')>\n",
      "Traceback (most recent call last):\n",
      "  File \"/Users/pradeep.borado/.conda/envs/cv/lib/python3.11/asyncio/unix_events.py\", line 686, in write\n",
      "    n = os.write(self._fileno, data)\n",
      "        ^^^^^^^^^^^^^^^^^^^^^^^^^^^^\n",
      "BrokenPipeError: [Errno 32] Broken pipe\n",
      "Future exception was never retrieved\n",
      "future: <Future finished exception=Exception('Connection closed while reading from the driver')>\n",
      "Exception: Connection closed while reading from the driver\n",
      "Future exception was never retrieved\n",
      "future: <Future finished exception=BrokenPipeError(32, 'Broken pipe')>\n",
      "Traceback (most recent call last):\n",
      "  File \"/Users/pradeep.borado/.conda/envs/cv/lib/python3.11/asyncio/unix_events.py\", line 686, in write\n",
      "    n = os.write(self._fileno, data)\n",
      "        ^^^^^^^^^^^^^^^^^^^^^^^^^^^^\n",
      "BrokenPipeError: [Errno 32] Broken pipe\n",
      "Future exception was never retrieved\n",
      "future: <Future finished exception=Exception('Connection closed while reading from the driver')>\n",
      "Exception: Connection closed while reading from the driver\n",
      "Future exception was never retrieved\n",
      "future: <Future finished exception=Exception('Connection closed while reading from the driver')>\n",
      "Exception: Connection closed while reading from the driver\n"
     ]
    },
    {
     "name": "stdout",
     "output_type": "stream",
     "text": [
      "Thought: This webpage appears to be the Wikipedia page for India. I will start by clicking on the article title to ensure I'm on the correct page.\n",
      "\n",
      "Action: Click 34\n",
      "******************** Thought: This webpage appears to be the Wikipedia page for India. I will start by clicking on the article title to ensure I'm on the correct page.\n",
      "\n",
      "Action: Click 34\n",
      "*************** Thought: This webpage appears to be the Wikipedia page for India. I will start by clicking on the article title to ensure I'm on the correct page.\n",
      "\n",
      "Action: Click 34\n",
      "{'Click': ('34',)}\n"
     ]
    },
    {
     "ename": "RateLimitError",
     "evalue": "Error code: 429 - {'error': {'message': 'Rate limit reached for model `llama3-70b-8192` in organization `org_01hqjr85w6ffh89gthy5wjn0wy` on tokens per minute (TPM): Limit 3500, Used 2234, Requested ~8356. Please try again in 2m1.538428571s. Visit https://console.groq.com/docs/rate-limits for more information.', 'type': 'tokens', 'code': 'rate_limit_exceeded'}}",
     "output_type": "error",
     "traceback": [
      "\u001b[0;31m---------------------------------------------------------------------------\u001b[0m",
      "\u001b[0;31mRateLimitError\u001b[0m                            Traceback (most recent call last)",
      "Cell \u001b[0;32mIn[36], line 8\u001b[0m\n\u001b[1;32m      5\u001b[0m page \u001b[38;5;241m=\u001b[39m \u001b[38;5;28;01mawait\u001b[39;00m browser\u001b[38;5;241m.\u001b[39mnew_page()  \u001b[38;5;66;03m# Open a new page\u001b[39;00m\n\u001b[1;32m      6\u001b[0m \u001b[38;5;28;01mawait\u001b[39;00m page\u001b[38;5;241m.\u001b[39mgoto(\u001b[38;5;124m'\u001b[39m\u001b[38;5;124mhttps://www.google.in\u001b[39m\u001b[38;5;124m'\u001b[39m)\n\u001b[0;32m----> 8\u001b[0m \u001b[38;5;28;01mawait\u001b[39;00m get_information1(\u001b[38;5;124m'\u001b[39m\u001b[38;5;124msummarize wikipedia article about India\u001b[39m\u001b[38;5;124m'\u001b[39m)\n",
      "Cell \u001b[0;32mIn[28], line 26\u001b[0m, in \u001b[0;36mget_information1\u001b[0;34m(query)\u001b[0m\n\u001b[1;32m     23\u001b[0m \u001b[38;5;28;01mif\u001b[39;00m \u001b[38;5;124m'\u001b[39m\u001b[38;5;124mgoogle\u001b[39m\u001b[38;5;124m'\u001b[39m \u001b[38;5;129;01mnot\u001b[39;00m \u001b[38;5;129;01min\u001b[39;00m page\u001b[38;5;241m.\u001b[39murl:\n\u001b[1;32m     25\u001b[0m     p \u001b[38;5;241m=\u001b[39m get_prompt(text, query)\n\u001b[0;32m---> 26\u001b[0m     p \u001b[38;5;241m=\u001b[39m \u001b[43mllama3_agent\u001b[49m\u001b[43m(\u001b[49m\u001b[43mp\u001b[49m\u001b[43m)\u001b[49m\n\u001b[1;32m     27\u001b[0m     \u001b[38;5;28;01mif\u001b[39;00m p \u001b[38;5;241m!=\u001b[39m \u001b[38;5;124m'\u001b[39m\u001b[38;5;124mNO\u001b[39m\u001b[38;5;124m'\u001b[39m:\n\u001b[1;32m     28\u001b[0m         \u001b[38;5;28;01mreturn\u001b[39;00m p\n",
      "Cell \u001b[0;32mIn[12], line 6\u001b[0m, in \u001b[0;36mllama3_agent\u001b[0;34m(q)\u001b[0m\n\u001b[1;32m      1\u001b[0m \u001b[38;5;28;01mdef\u001b[39;00m \u001b[38;5;21mllama3_agent\u001b[39m(q):\n\u001b[1;32m      2\u001b[0m     client \u001b[38;5;241m=\u001b[39m Groq(\n\u001b[1;32m      3\u001b[0m         api_key\u001b[38;5;241m=\u001b[39mos\u001b[38;5;241m.\u001b[39menviron\u001b[38;5;241m.\u001b[39mget(\u001b[38;5;124m\"\u001b[39m\u001b[38;5;124mGROQ_API_KEY\u001b[39m\u001b[38;5;124m\"\u001b[39m),\n\u001b[1;32m      4\u001b[0m     )\n\u001b[0;32m----> 6\u001b[0m     chat_completion \u001b[38;5;241m=\u001b[39m \u001b[43mclient\u001b[49m\u001b[38;5;241;43m.\u001b[39;49m\u001b[43mchat\u001b[49m\u001b[38;5;241;43m.\u001b[39;49m\u001b[43mcompletions\u001b[49m\u001b[38;5;241;43m.\u001b[39;49m\u001b[43mcreate\u001b[49m\u001b[43m(\u001b[49m\n\u001b[1;32m      7\u001b[0m \u001b[43m        \u001b[49m\u001b[43mmessages\u001b[49m\u001b[38;5;241;43m=\u001b[39;49m\u001b[43m[\u001b[49m\n\u001b[1;32m      8\u001b[0m \u001b[43m            \u001b[49m\u001b[43m{\u001b[49m\n\u001b[1;32m      9\u001b[0m \u001b[43m                \u001b[49m\u001b[38;5;124;43m\"\u001b[39;49m\u001b[38;5;124;43mrole\u001b[39;49m\u001b[38;5;124;43m\"\u001b[39;49m\u001b[43m:\u001b[49m\u001b[43m \u001b[49m\u001b[38;5;124;43m\"\u001b[39;49m\u001b[38;5;124;43muser\u001b[39;49m\u001b[38;5;124;43m\"\u001b[39;49m\u001b[43m,\u001b[49m\n\u001b[1;32m     10\u001b[0m \u001b[43m                \u001b[49m\u001b[38;5;124;43m\"\u001b[39;49m\u001b[38;5;124;43mcontent\u001b[39;49m\u001b[38;5;124;43m\"\u001b[39;49m\u001b[43m:\u001b[49m\u001b[43m \u001b[49m\u001b[43mq\u001b[49m\u001b[43m,\u001b[49m\n\u001b[1;32m     11\u001b[0m \u001b[43m            \u001b[49m\u001b[43m}\u001b[49m\n\u001b[1;32m     12\u001b[0m \u001b[43m        \u001b[49m\u001b[43m]\u001b[49m\u001b[43m,\u001b[49m\n\u001b[1;32m     13\u001b[0m \u001b[43m        \u001b[49m\u001b[43mmodel\u001b[49m\u001b[38;5;241;43m=\u001b[39;49m\u001b[38;5;124;43m\"\u001b[39;49m\u001b[38;5;124;43mllama3-70b-8192\u001b[39;49m\u001b[38;5;124;43m\"\u001b[39;49m\u001b[43m,\u001b[49m\n\u001b[1;32m     14\u001b[0m \u001b[43m    \u001b[49m\u001b[43m)\u001b[49m\n\u001b[1;32m     16\u001b[0m     \u001b[38;5;28mprint\u001b[39m(chat_completion\u001b[38;5;241m.\u001b[39mchoices[\u001b[38;5;241m0\u001b[39m]\u001b[38;5;241m.\u001b[39mmessage\u001b[38;5;241m.\u001b[39mcontent)\n\u001b[1;32m     17\u001b[0m     \u001b[38;5;28;01mreturn\u001b[39;00m chat_completion\u001b[38;5;241m.\u001b[39mchoices[\u001b[38;5;241m0\u001b[39m]\u001b[38;5;241m.\u001b[39mmessage\u001b[38;5;241m.\u001b[39mcontent\n",
      "File \u001b[0;32m~/.conda/envs/cv/lib/python3.11/site-packages/groq/resources/chat/completions.py:178\u001b[0m, in \u001b[0;36mCompletions.create\u001b[0;34m(self, messages, model, frequency_penalty, logit_bias, logprobs, max_tokens, n, presence_penalty, response_format, seed, stop, stream, temperature, tool_choice, tools, top_logprobs, top_p, user, extra_headers, extra_query, extra_body, timeout)\u001b[0m\n\u001b[1;32m    135\u001b[0m \u001b[38;5;28;01mdef\u001b[39;00m \u001b[38;5;21mcreate\u001b[39m(\n\u001b[1;32m    136\u001b[0m     \u001b[38;5;28mself\u001b[39m,\n\u001b[1;32m    137\u001b[0m     \u001b[38;5;241m*\u001b[39m,\n\u001b[0;32m   (...)\u001b[0m\n\u001b[1;32m    161\u001b[0m     timeout: \u001b[38;5;28mfloat\u001b[39m \u001b[38;5;241m|\u001b[39m httpx\u001b[38;5;241m.\u001b[39mTimeout \u001b[38;5;241m|\u001b[39m \u001b[38;5;28;01mNone\u001b[39;00m \u001b[38;5;241m|\u001b[39m NotGiven \u001b[38;5;241m=\u001b[39m NOT_GIVEN,\n\u001b[1;32m    162\u001b[0m ) \u001b[38;5;241m-\u001b[39m\u001b[38;5;241m>\u001b[39m ChatCompletion \u001b[38;5;241m|\u001b[39m Stream[ChatCompletionChunk]:\n\u001b[1;32m    163\u001b[0m \u001b[38;5;250m    \u001b[39m\u001b[38;5;124;03m\"\"\"\u001b[39;00m\n\u001b[1;32m    164\u001b[0m \u001b[38;5;124;03m    Creates a completion for a chat prompt\u001b[39;00m\n\u001b[1;32m    165\u001b[0m \n\u001b[0;32m   (...)\u001b[0m\n\u001b[1;32m    176\u001b[0m \u001b[38;5;124;03m      timeout: Override the client-level default timeout for this request, in seconds\u001b[39;00m\n\u001b[1;32m    177\u001b[0m \u001b[38;5;124;03m    \"\"\"\u001b[39;00m\n\u001b[0;32m--> 178\u001b[0m     \u001b[38;5;28;01mreturn\u001b[39;00m \u001b[38;5;28;43mself\u001b[39;49m\u001b[38;5;241;43m.\u001b[39;49m\u001b[43m_post\u001b[49m\u001b[43m(\u001b[49m\n\u001b[1;32m    179\u001b[0m \u001b[43m        \u001b[49m\u001b[38;5;124;43m\"\u001b[39;49m\u001b[38;5;124;43m/openai/v1/chat/completions\u001b[39;49m\u001b[38;5;124;43m\"\u001b[39;49m\u001b[43m,\u001b[49m\n\u001b[1;32m    180\u001b[0m \u001b[43m        \u001b[49m\u001b[43mbody\u001b[49m\u001b[38;5;241;43m=\u001b[39;49m\u001b[43mmaybe_transform\u001b[49m\u001b[43m(\u001b[49m\n\u001b[1;32m    181\u001b[0m \u001b[43m            \u001b[49m\u001b[43m{\u001b[49m\n\u001b[1;32m    182\u001b[0m \u001b[43m                \u001b[49m\u001b[38;5;124;43m\"\u001b[39;49m\u001b[38;5;124;43mmessages\u001b[39;49m\u001b[38;5;124;43m\"\u001b[39;49m\u001b[43m:\u001b[49m\u001b[43m \u001b[49m\u001b[43mmessages\u001b[49m\u001b[43m,\u001b[49m\n\u001b[1;32m    183\u001b[0m \u001b[43m                \u001b[49m\u001b[38;5;124;43m\"\u001b[39;49m\u001b[38;5;124;43mmodel\u001b[39;49m\u001b[38;5;124;43m\"\u001b[39;49m\u001b[43m:\u001b[49m\u001b[43m \u001b[49m\u001b[43mmodel\u001b[49m\u001b[43m,\u001b[49m\n\u001b[1;32m    184\u001b[0m \u001b[43m                \u001b[49m\u001b[38;5;124;43m\"\u001b[39;49m\u001b[38;5;124;43mfrequency_penalty\u001b[39;49m\u001b[38;5;124;43m\"\u001b[39;49m\u001b[43m:\u001b[49m\u001b[43m \u001b[49m\u001b[43mfrequency_penalty\u001b[49m\u001b[43m,\u001b[49m\n\u001b[1;32m    185\u001b[0m \u001b[43m                \u001b[49m\u001b[38;5;124;43m\"\u001b[39;49m\u001b[38;5;124;43mlogit_bias\u001b[39;49m\u001b[38;5;124;43m\"\u001b[39;49m\u001b[43m:\u001b[49m\u001b[43m \u001b[49m\u001b[43mlogit_bias\u001b[49m\u001b[43m,\u001b[49m\n\u001b[1;32m    186\u001b[0m \u001b[43m                \u001b[49m\u001b[38;5;124;43m\"\u001b[39;49m\u001b[38;5;124;43mlogprobs\u001b[39;49m\u001b[38;5;124;43m\"\u001b[39;49m\u001b[43m:\u001b[49m\u001b[43m \u001b[49m\u001b[43mlogprobs\u001b[49m\u001b[43m,\u001b[49m\n\u001b[1;32m    187\u001b[0m \u001b[43m                \u001b[49m\u001b[38;5;124;43m\"\u001b[39;49m\u001b[38;5;124;43mmax_tokens\u001b[39;49m\u001b[38;5;124;43m\"\u001b[39;49m\u001b[43m:\u001b[49m\u001b[43m \u001b[49m\u001b[43mmax_tokens\u001b[49m\u001b[43m,\u001b[49m\n\u001b[1;32m    188\u001b[0m \u001b[43m                \u001b[49m\u001b[38;5;124;43m\"\u001b[39;49m\u001b[38;5;124;43mn\u001b[39;49m\u001b[38;5;124;43m\"\u001b[39;49m\u001b[43m:\u001b[49m\u001b[43m \u001b[49m\u001b[43mn\u001b[49m\u001b[43m,\u001b[49m\n\u001b[1;32m    189\u001b[0m \u001b[43m                \u001b[49m\u001b[38;5;124;43m\"\u001b[39;49m\u001b[38;5;124;43mpresence_penalty\u001b[39;49m\u001b[38;5;124;43m\"\u001b[39;49m\u001b[43m:\u001b[49m\u001b[43m \u001b[49m\u001b[43mpresence_penalty\u001b[49m\u001b[43m,\u001b[49m\n\u001b[1;32m    190\u001b[0m \u001b[43m                \u001b[49m\u001b[38;5;124;43m\"\u001b[39;49m\u001b[38;5;124;43mresponse_format\u001b[39;49m\u001b[38;5;124;43m\"\u001b[39;49m\u001b[43m:\u001b[49m\u001b[43m \u001b[49m\u001b[43mresponse_format\u001b[49m\u001b[43m,\u001b[49m\n\u001b[1;32m    191\u001b[0m \u001b[43m                \u001b[49m\u001b[38;5;124;43m\"\u001b[39;49m\u001b[38;5;124;43mseed\u001b[39;49m\u001b[38;5;124;43m\"\u001b[39;49m\u001b[43m:\u001b[49m\u001b[43m \u001b[49m\u001b[43mseed\u001b[49m\u001b[43m,\u001b[49m\n\u001b[1;32m    192\u001b[0m \u001b[43m                \u001b[49m\u001b[38;5;124;43m\"\u001b[39;49m\u001b[38;5;124;43mstop\u001b[39;49m\u001b[38;5;124;43m\"\u001b[39;49m\u001b[43m:\u001b[49m\u001b[43m \u001b[49m\u001b[43mstop\u001b[49m\u001b[43m,\u001b[49m\n\u001b[1;32m    193\u001b[0m \u001b[43m                \u001b[49m\u001b[38;5;124;43m\"\u001b[39;49m\u001b[38;5;124;43mstream\u001b[39;49m\u001b[38;5;124;43m\"\u001b[39;49m\u001b[43m:\u001b[49m\u001b[43m \u001b[49m\u001b[43mstream\u001b[49m\u001b[43m,\u001b[49m\n\u001b[1;32m    194\u001b[0m \u001b[43m                \u001b[49m\u001b[38;5;124;43m\"\u001b[39;49m\u001b[38;5;124;43mtemperature\u001b[39;49m\u001b[38;5;124;43m\"\u001b[39;49m\u001b[43m:\u001b[49m\u001b[43m \u001b[49m\u001b[43mtemperature\u001b[49m\u001b[43m,\u001b[49m\n\u001b[1;32m    195\u001b[0m \u001b[43m                \u001b[49m\u001b[38;5;124;43m\"\u001b[39;49m\u001b[38;5;124;43mtool_choice\u001b[39;49m\u001b[38;5;124;43m\"\u001b[39;49m\u001b[43m:\u001b[49m\u001b[43m \u001b[49m\u001b[43mtool_choice\u001b[49m\u001b[43m,\u001b[49m\n\u001b[1;32m    196\u001b[0m \u001b[43m                \u001b[49m\u001b[38;5;124;43m\"\u001b[39;49m\u001b[38;5;124;43mtools\u001b[39;49m\u001b[38;5;124;43m\"\u001b[39;49m\u001b[43m:\u001b[49m\u001b[43m \u001b[49m\u001b[43mtools\u001b[49m\u001b[43m,\u001b[49m\n\u001b[1;32m    197\u001b[0m \u001b[43m                \u001b[49m\u001b[38;5;124;43m\"\u001b[39;49m\u001b[38;5;124;43mtop_logprobs\u001b[39;49m\u001b[38;5;124;43m\"\u001b[39;49m\u001b[43m:\u001b[49m\u001b[43m \u001b[49m\u001b[43mtop_logprobs\u001b[49m\u001b[43m,\u001b[49m\n\u001b[1;32m    198\u001b[0m \u001b[43m                \u001b[49m\u001b[38;5;124;43m\"\u001b[39;49m\u001b[38;5;124;43mtop_p\u001b[39;49m\u001b[38;5;124;43m\"\u001b[39;49m\u001b[43m:\u001b[49m\u001b[43m \u001b[49m\u001b[43mtop_p\u001b[49m\u001b[43m,\u001b[49m\n\u001b[1;32m    199\u001b[0m \u001b[43m                \u001b[49m\u001b[38;5;124;43m\"\u001b[39;49m\u001b[38;5;124;43muser\u001b[39;49m\u001b[38;5;124;43m\"\u001b[39;49m\u001b[43m:\u001b[49m\u001b[43m \u001b[49m\u001b[43muser\u001b[49m\u001b[43m,\u001b[49m\n\u001b[1;32m    200\u001b[0m \u001b[43m            \u001b[49m\u001b[43m}\u001b[49m\u001b[43m,\u001b[49m\n\u001b[1;32m    201\u001b[0m \u001b[43m            \u001b[49m\u001b[43mcompletion_create_params\u001b[49m\u001b[38;5;241;43m.\u001b[39;49m\u001b[43mCompletionCreateParams\u001b[49m\u001b[43m,\u001b[49m\n\u001b[1;32m    202\u001b[0m \u001b[43m        \u001b[49m\u001b[43m)\u001b[49m\u001b[43m,\u001b[49m\n\u001b[1;32m    203\u001b[0m \u001b[43m        \u001b[49m\u001b[43moptions\u001b[49m\u001b[38;5;241;43m=\u001b[39;49m\u001b[43mmake_request_options\u001b[49m\u001b[43m(\u001b[49m\n\u001b[1;32m    204\u001b[0m \u001b[43m            \u001b[49m\u001b[43mextra_headers\u001b[49m\u001b[38;5;241;43m=\u001b[39;49m\u001b[43mextra_headers\u001b[49m\u001b[43m,\u001b[49m\u001b[43m \u001b[49m\u001b[43mextra_query\u001b[49m\u001b[38;5;241;43m=\u001b[39;49m\u001b[43mextra_query\u001b[49m\u001b[43m,\u001b[49m\u001b[43m \u001b[49m\u001b[43mextra_body\u001b[49m\u001b[38;5;241;43m=\u001b[39;49m\u001b[43mextra_body\u001b[49m\u001b[43m,\u001b[49m\u001b[43m \u001b[49m\u001b[43mtimeout\u001b[49m\u001b[38;5;241;43m=\u001b[39;49m\u001b[43mtimeout\u001b[49m\n\u001b[1;32m    205\u001b[0m \u001b[43m        \u001b[49m\u001b[43m)\u001b[49m\u001b[43m,\u001b[49m\n\u001b[1;32m    206\u001b[0m \u001b[43m        \u001b[49m\u001b[43mcast_to\u001b[49m\u001b[38;5;241;43m=\u001b[39;49m\u001b[43mChatCompletion\u001b[49m\u001b[43m,\u001b[49m\n\u001b[1;32m    207\u001b[0m \u001b[43m        \u001b[49m\u001b[43mstream\u001b[49m\u001b[38;5;241;43m=\u001b[39;49m\u001b[43mstream\u001b[49m\u001b[43m \u001b[49m\u001b[38;5;129;43;01mor\u001b[39;49;00m\u001b[43m \u001b[49m\u001b[38;5;28;43;01mFalse\u001b[39;49;00m\u001b[43m,\u001b[49m\n\u001b[1;32m    208\u001b[0m \u001b[43m        \u001b[49m\u001b[43mstream_cls\u001b[49m\u001b[38;5;241;43m=\u001b[39;49m\u001b[43mStream\u001b[49m\u001b[43m[\u001b[49m\u001b[43mChatCompletionChunk\u001b[49m\u001b[43m]\u001b[49m\u001b[43m,\u001b[49m\n\u001b[1;32m    209\u001b[0m \u001b[43m    \u001b[49m\u001b[43m)\u001b[49m\n",
      "File \u001b[0;32m~/.conda/envs/cv/lib/python3.11/site-packages/groq/_base_client.py:1194\u001b[0m, in \u001b[0;36mSyncAPIClient.post\u001b[0;34m(self, path, cast_to, body, options, files, stream, stream_cls)\u001b[0m\n\u001b[1;32m   1180\u001b[0m \u001b[38;5;28;01mdef\u001b[39;00m \u001b[38;5;21mpost\u001b[39m(\n\u001b[1;32m   1181\u001b[0m     \u001b[38;5;28mself\u001b[39m,\n\u001b[1;32m   1182\u001b[0m     path: \u001b[38;5;28mstr\u001b[39m,\n\u001b[0;32m   (...)\u001b[0m\n\u001b[1;32m   1189\u001b[0m     stream_cls: \u001b[38;5;28mtype\u001b[39m[_StreamT] \u001b[38;5;241m|\u001b[39m \u001b[38;5;28;01mNone\u001b[39;00m \u001b[38;5;241m=\u001b[39m \u001b[38;5;28;01mNone\u001b[39;00m,\n\u001b[1;32m   1190\u001b[0m ) \u001b[38;5;241m-\u001b[39m\u001b[38;5;241m>\u001b[39m ResponseT \u001b[38;5;241m|\u001b[39m _StreamT:\n\u001b[1;32m   1191\u001b[0m     opts \u001b[38;5;241m=\u001b[39m FinalRequestOptions\u001b[38;5;241m.\u001b[39mconstruct(\n\u001b[1;32m   1192\u001b[0m         method\u001b[38;5;241m=\u001b[39m\u001b[38;5;124m\"\u001b[39m\u001b[38;5;124mpost\u001b[39m\u001b[38;5;124m\"\u001b[39m, url\u001b[38;5;241m=\u001b[39mpath, json_data\u001b[38;5;241m=\u001b[39mbody, files\u001b[38;5;241m=\u001b[39mto_httpx_files(files), \u001b[38;5;241m*\u001b[39m\u001b[38;5;241m*\u001b[39moptions\n\u001b[1;32m   1193\u001b[0m     )\n\u001b[0;32m-> 1194\u001b[0m     \u001b[38;5;28;01mreturn\u001b[39;00m cast(ResponseT, \u001b[38;5;28;43mself\u001b[39;49m\u001b[38;5;241;43m.\u001b[39;49m\u001b[43mrequest\u001b[49m\u001b[43m(\u001b[49m\u001b[43mcast_to\u001b[49m\u001b[43m,\u001b[49m\u001b[43m \u001b[49m\u001b[43mopts\u001b[49m\u001b[43m,\u001b[49m\u001b[43m \u001b[49m\u001b[43mstream\u001b[49m\u001b[38;5;241;43m=\u001b[39;49m\u001b[43mstream\u001b[49m\u001b[43m,\u001b[49m\u001b[43m \u001b[49m\u001b[43mstream_cls\u001b[49m\u001b[38;5;241;43m=\u001b[39;49m\u001b[43mstream_cls\u001b[49m\u001b[43m)\u001b[49m)\n",
      "File \u001b[0;32m~/.conda/envs/cv/lib/python3.11/site-packages/groq/_base_client.py:896\u001b[0m, in \u001b[0;36mSyncAPIClient.request\u001b[0;34m(self, cast_to, options, remaining_retries, stream, stream_cls)\u001b[0m\n\u001b[1;32m    887\u001b[0m \u001b[38;5;28;01mdef\u001b[39;00m \u001b[38;5;21mrequest\u001b[39m(\n\u001b[1;32m    888\u001b[0m     \u001b[38;5;28mself\u001b[39m,\n\u001b[1;32m    889\u001b[0m     cast_to: Type[ResponseT],\n\u001b[0;32m   (...)\u001b[0m\n\u001b[1;32m    894\u001b[0m     stream_cls: \u001b[38;5;28mtype\u001b[39m[_StreamT] \u001b[38;5;241m|\u001b[39m \u001b[38;5;28;01mNone\u001b[39;00m \u001b[38;5;241m=\u001b[39m \u001b[38;5;28;01mNone\u001b[39;00m,\n\u001b[1;32m    895\u001b[0m ) \u001b[38;5;241m-\u001b[39m\u001b[38;5;241m>\u001b[39m ResponseT \u001b[38;5;241m|\u001b[39m _StreamT:\n\u001b[0;32m--> 896\u001b[0m     \u001b[38;5;28;01mreturn\u001b[39;00m \u001b[38;5;28;43mself\u001b[39;49m\u001b[38;5;241;43m.\u001b[39;49m\u001b[43m_request\u001b[49m\u001b[43m(\u001b[49m\n\u001b[1;32m    897\u001b[0m \u001b[43m        \u001b[49m\u001b[43mcast_to\u001b[49m\u001b[38;5;241;43m=\u001b[39;49m\u001b[43mcast_to\u001b[49m\u001b[43m,\u001b[49m\n\u001b[1;32m    898\u001b[0m \u001b[43m        \u001b[49m\u001b[43moptions\u001b[49m\u001b[38;5;241;43m=\u001b[39;49m\u001b[43moptions\u001b[49m\u001b[43m,\u001b[49m\n\u001b[1;32m    899\u001b[0m \u001b[43m        \u001b[49m\u001b[43mstream\u001b[49m\u001b[38;5;241;43m=\u001b[39;49m\u001b[43mstream\u001b[49m\u001b[43m,\u001b[49m\n\u001b[1;32m    900\u001b[0m \u001b[43m        \u001b[49m\u001b[43mstream_cls\u001b[49m\u001b[38;5;241;43m=\u001b[39;49m\u001b[43mstream_cls\u001b[49m\u001b[43m,\u001b[49m\n\u001b[1;32m    901\u001b[0m \u001b[43m        \u001b[49m\u001b[43mremaining_retries\u001b[49m\u001b[38;5;241;43m=\u001b[39;49m\u001b[43mremaining_retries\u001b[49m\u001b[43m,\u001b[49m\n\u001b[1;32m    902\u001b[0m \u001b[43m    \u001b[49m\u001b[43m)\u001b[49m\n",
      "File \u001b[0;32m~/.conda/envs/cv/lib/python3.11/site-packages/groq/_base_client.py:972\u001b[0m, in \u001b[0;36mSyncAPIClient._request\u001b[0;34m(self, cast_to, options, remaining_retries, stream, stream_cls)\u001b[0m\n\u001b[1;32m    970\u001b[0m \u001b[38;5;28;01mif\u001b[39;00m retries \u001b[38;5;241m>\u001b[39m \u001b[38;5;241m0\u001b[39m \u001b[38;5;129;01mand\u001b[39;00m \u001b[38;5;28mself\u001b[39m\u001b[38;5;241m.\u001b[39m_should_retry(err\u001b[38;5;241m.\u001b[39mresponse):\n\u001b[1;32m    971\u001b[0m     err\u001b[38;5;241m.\u001b[39mresponse\u001b[38;5;241m.\u001b[39mclose()\n\u001b[0;32m--> 972\u001b[0m     \u001b[38;5;28;01mreturn\u001b[39;00m \u001b[38;5;28;43mself\u001b[39;49m\u001b[38;5;241;43m.\u001b[39;49m\u001b[43m_retry_request\u001b[49m\u001b[43m(\u001b[49m\n\u001b[1;32m    973\u001b[0m \u001b[43m        \u001b[49m\u001b[43moptions\u001b[49m\u001b[43m,\u001b[49m\n\u001b[1;32m    974\u001b[0m \u001b[43m        \u001b[49m\u001b[43mcast_to\u001b[49m\u001b[43m,\u001b[49m\n\u001b[1;32m    975\u001b[0m \u001b[43m        \u001b[49m\u001b[43mretries\u001b[49m\u001b[43m,\u001b[49m\n\u001b[1;32m    976\u001b[0m \u001b[43m        \u001b[49m\u001b[43merr\u001b[49m\u001b[38;5;241;43m.\u001b[39;49m\u001b[43mresponse\u001b[49m\u001b[38;5;241;43m.\u001b[39;49m\u001b[43mheaders\u001b[49m\u001b[43m,\u001b[49m\n\u001b[1;32m    977\u001b[0m \u001b[43m        \u001b[49m\u001b[43mstream\u001b[49m\u001b[38;5;241;43m=\u001b[39;49m\u001b[43mstream\u001b[49m\u001b[43m,\u001b[49m\n\u001b[1;32m    978\u001b[0m \u001b[43m        \u001b[49m\u001b[43mstream_cls\u001b[49m\u001b[38;5;241;43m=\u001b[39;49m\u001b[43mstream_cls\u001b[49m\u001b[43m,\u001b[49m\n\u001b[1;32m    979\u001b[0m \u001b[43m    \u001b[49m\u001b[43m)\u001b[49m\n\u001b[1;32m    981\u001b[0m \u001b[38;5;66;03m# If the response is streamed then we need to explicitly read the response\u001b[39;00m\n\u001b[1;32m    982\u001b[0m \u001b[38;5;66;03m# to completion before attempting to access the response text.\u001b[39;00m\n\u001b[1;32m    983\u001b[0m \u001b[38;5;28;01mif\u001b[39;00m \u001b[38;5;129;01mnot\u001b[39;00m err\u001b[38;5;241m.\u001b[39mresponse\u001b[38;5;241m.\u001b[39mis_closed:\n",
      "File \u001b[0;32m~/.conda/envs/cv/lib/python3.11/site-packages/groq/_base_client.py:1020\u001b[0m, in \u001b[0;36mSyncAPIClient._retry_request\u001b[0;34m(self, options, cast_to, remaining_retries, response_headers, stream, stream_cls)\u001b[0m\n\u001b[1;32m   1016\u001b[0m \u001b[38;5;66;03m# In a synchronous context we are blocking the entire thread. Up to the library user to run the client in a\u001b[39;00m\n\u001b[1;32m   1017\u001b[0m \u001b[38;5;66;03m# different thread if necessary.\u001b[39;00m\n\u001b[1;32m   1018\u001b[0m time\u001b[38;5;241m.\u001b[39msleep(timeout)\n\u001b[0;32m-> 1020\u001b[0m \u001b[38;5;28;01mreturn\u001b[39;00m \u001b[38;5;28;43mself\u001b[39;49m\u001b[38;5;241;43m.\u001b[39;49m\u001b[43m_request\u001b[49m\u001b[43m(\u001b[49m\n\u001b[1;32m   1021\u001b[0m \u001b[43m    \u001b[49m\u001b[43moptions\u001b[49m\u001b[38;5;241;43m=\u001b[39;49m\u001b[43moptions\u001b[49m\u001b[43m,\u001b[49m\n\u001b[1;32m   1022\u001b[0m \u001b[43m    \u001b[49m\u001b[43mcast_to\u001b[49m\u001b[38;5;241;43m=\u001b[39;49m\u001b[43mcast_to\u001b[49m\u001b[43m,\u001b[49m\n\u001b[1;32m   1023\u001b[0m \u001b[43m    \u001b[49m\u001b[43mremaining_retries\u001b[49m\u001b[38;5;241;43m=\u001b[39;49m\u001b[43mremaining\u001b[49m\u001b[43m,\u001b[49m\n\u001b[1;32m   1024\u001b[0m \u001b[43m    \u001b[49m\u001b[43mstream\u001b[49m\u001b[38;5;241;43m=\u001b[39;49m\u001b[43mstream\u001b[49m\u001b[43m,\u001b[49m\n\u001b[1;32m   1025\u001b[0m \u001b[43m    \u001b[49m\u001b[43mstream_cls\u001b[49m\u001b[38;5;241;43m=\u001b[39;49m\u001b[43mstream_cls\u001b[49m\u001b[43m,\u001b[49m\n\u001b[1;32m   1026\u001b[0m \u001b[43m\u001b[49m\u001b[43m)\u001b[49m\n",
      "File \u001b[0;32m~/.conda/envs/cv/lib/python3.11/site-packages/groq/_base_client.py:972\u001b[0m, in \u001b[0;36mSyncAPIClient._request\u001b[0;34m(self, cast_to, options, remaining_retries, stream, stream_cls)\u001b[0m\n\u001b[1;32m    970\u001b[0m \u001b[38;5;28;01mif\u001b[39;00m retries \u001b[38;5;241m>\u001b[39m \u001b[38;5;241m0\u001b[39m \u001b[38;5;129;01mand\u001b[39;00m \u001b[38;5;28mself\u001b[39m\u001b[38;5;241m.\u001b[39m_should_retry(err\u001b[38;5;241m.\u001b[39mresponse):\n\u001b[1;32m    971\u001b[0m     err\u001b[38;5;241m.\u001b[39mresponse\u001b[38;5;241m.\u001b[39mclose()\n\u001b[0;32m--> 972\u001b[0m     \u001b[38;5;28;01mreturn\u001b[39;00m \u001b[38;5;28;43mself\u001b[39;49m\u001b[38;5;241;43m.\u001b[39;49m\u001b[43m_retry_request\u001b[49m\u001b[43m(\u001b[49m\n\u001b[1;32m    973\u001b[0m \u001b[43m        \u001b[49m\u001b[43moptions\u001b[49m\u001b[43m,\u001b[49m\n\u001b[1;32m    974\u001b[0m \u001b[43m        \u001b[49m\u001b[43mcast_to\u001b[49m\u001b[43m,\u001b[49m\n\u001b[1;32m    975\u001b[0m \u001b[43m        \u001b[49m\u001b[43mretries\u001b[49m\u001b[43m,\u001b[49m\n\u001b[1;32m    976\u001b[0m \u001b[43m        \u001b[49m\u001b[43merr\u001b[49m\u001b[38;5;241;43m.\u001b[39;49m\u001b[43mresponse\u001b[49m\u001b[38;5;241;43m.\u001b[39;49m\u001b[43mheaders\u001b[49m\u001b[43m,\u001b[49m\n\u001b[1;32m    977\u001b[0m \u001b[43m        \u001b[49m\u001b[43mstream\u001b[49m\u001b[38;5;241;43m=\u001b[39;49m\u001b[43mstream\u001b[49m\u001b[43m,\u001b[49m\n\u001b[1;32m    978\u001b[0m \u001b[43m        \u001b[49m\u001b[43mstream_cls\u001b[49m\u001b[38;5;241;43m=\u001b[39;49m\u001b[43mstream_cls\u001b[49m\u001b[43m,\u001b[49m\n\u001b[1;32m    979\u001b[0m \u001b[43m    \u001b[49m\u001b[43m)\u001b[49m\n\u001b[1;32m    981\u001b[0m \u001b[38;5;66;03m# If the response is streamed then we need to explicitly read the response\u001b[39;00m\n\u001b[1;32m    982\u001b[0m \u001b[38;5;66;03m# to completion before attempting to access the response text.\u001b[39;00m\n\u001b[1;32m    983\u001b[0m \u001b[38;5;28;01mif\u001b[39;00m \u001b[38;5;129;01mnot\u001b[39;00m err\u001b[38;5;241m.\u001b[39mresponse\u001b[38;5;241m.\u001b[39mis_closed:\n",
      "File \u001b[0;32m~/.conda/envs/cv/lib/python3.11/site-packages/groq/_base_client.py:1020\u001b[0m, in \u001b[0;36mSyncAPIClient._retry_request\u001b[0;34m(self, options, cast_to, remaining_retries, response_headers, stream, stream_cls)\u001b[0m\n\u001b[1;32m   1016\u001b[0m \u001b[38;5;66;03m# In a synchronous context we are blocking the entire thread. Up to the library user to run the client in a\u001b[39;00m\n\u001b[1;32m   1017\u001b[0m \u001b[38;5;66;03m# different thread if necessary.\u001b[39;00m\n\u001b[1;32m   1018\u001b[0m time\u001b[38;5;241m.\u001b[39msleep(timeout)\n\u001b[0;32m-> 1020\u001b[0m \u001b[38;5;28;01mreturn\u001b[39;00m \u001b[38;5;28;43mself\u001b[39;49m\u001b[38;5;241;43m.\u001b[39;49m\u001b[43m_request\u001b[49m\u001b[43m(\u001b[49m\n\u001b[1;32m   1021\u001b[0m \u001b[43m    \u001b[49m\u001b[43moptions\u001b[49m\u001b[38;5;241;43m=\u001b[39;49m\u001b[43moptions\u001b[49m\u001b[43m,\u001b[49m\n\u001b[1;32m   1022\u001b[0m \u001b[43m    \u001b[49m\u001b[43mcast_to\u001b[49m\u001b[38;5;241;43m=\u001b[39;49m\u001b[43mcast_to\u001b[49m\u001b[43m,\u001b[49m\n\u001b[1;32m   1023\u001b[0m \u001b[43m    \u001b[49m\u001b[43mremaining_retries\u001b[49m\u001b[38;5;241;43m=\u001b[39;49m\u001b[43mremaining\u001b[49m\u001b[43m,\u001b[49m\n\u001b[1;32m   1024\u001b[0m \u001b[43m    \u001b[49m\u001b[43mstream\u001b[49m\u001b[38;5;241;43m=\u001b[39;49m\u001b[43mstream\u001b[49m\u001b[43m,\u001b[49m\n\u001b[1;32m   1025\u001b[0m \u001b[43m    \u001b[49m\u001b[43mstream_cls\u001b[49m\u001b[38;5;241;43m=\u001b[39;49m\u001b[43mstream_cls\u001b[49m\u001b[43m,\u001b[49m\n\u001b[1;32m   1026\u001b[0m \u001b[43m\u001b[49m\u001b[43m)\u001b[49m\n",
      "File \u001b[0;32m~/.conda/envs/cv/lib/python3.11/site-packages/groq/_base_client.py:987\u001b[0m, in \u001b[0;36mSyncAPIClient._request\u001b[0;34m(self, cast_to, options, remaining_retries, stream, stream_cls)\u001b[0m\n\u001b[1;32m    984\u001b[0m         err\u001b[38;5;241m.\u001b[39mresponse\u001b[38;5;241m.\u001b[39mread()\n\u001b[1;32m    986\u001b[0m     log\u001b[38;5;241m.\u001b[39mdebug(\u001b[38;5;124m\"\u001b[39m\u001b[38;5;124mRe-raising status error\u001b[39m\u001b[38;5;124m\"\u001b[39m)\n\u001b[0;32m--> 987\u001b[0m     \u001b[38;5;28;01mraise\u001b[39;00m \u001b[38;5;28mself\u001b[39m\u001b[38;5;241m.\u001b[39m_make_status_error_from_response(err\u001b[38;5;241m.\u001b[39mresponse) \u001b[38;5;28;01mfrom\u001b[39;00m \u001b[38;5;28;01mNone\u001b[39;00m\n\u001b[1;32m    989\u001b[0m \u001b[38;5;28;01mreturn\u001b[39;00m \u001b[38;5;28mself\u001b[39m\u001b[38;5;241m.\u001b[39m_process_response(\n\u001b[1;32m    990\u001b[0m     cast_to\u001b[38;5;241m=\u001b[39mcast_to,\n\u001b[1;32m    991\u001b[0m     options\u001b[38;5;241m=\u001b[39moptions,\n\u001b[0;32m   (...)\u001b[0m\n\u001b[1;32m    994\u001b[0m     stream_cls\u001b[38;5;241m=\u001b[39mstream_cls,\n\u001b[1;32m    995\u001b[0m )\n",
      "\u001b[0;31mRateLimitError\u001b[0m: Error code: 429 - {'error': {'message': 'Rate limit reached for model `llama3-70b-8192` in organization `org_01hqjr85w6ffh89gthy5wjn0wy` on tokens per minute (TPM): Limit 3500, Used 2234, Requested ~8356. Please try again in 2m1.538428571s. Visit https://console.groq.com/docs/rate-limits for more information.', 'type': 'tokens', 'code': 'rate_limit_exceeded'}}"
     ]
    }
   ],
   "source": [
    "\n",
    "    \n",
    "\n",
    "import platform\n",
    "playwright = await async_playwright().start()\n",
    "\n",
    "browser = await playwright.chromium.launch(headless=False)  # Launch Chromium browser\n",
    "page = await browser.new_page()  # Open a new page\n",
    "await page.goto('https://www.google.in')\n",
    "\n",
    "await get_information1('summarize wikipedia article about India')"
   ]
  },
  {
   "cell_type": "code",
   "execution_count": null,
   "id": "9ed308e5",
   "metadata": {},
   "outputs": [],
   "source": []
  }
 ],
 "metadata": {
  "kernelspec": {
   "display_name": "cv",
   "language": "python",
   "name": "cv"
  },
  "language_info": {
   "codemirror_mode": {
    "name": "ipython",
    "version": 3
   },
   "file_extension": ".py",
   "mimetype": "text/x-python",
   "name": "python",
   "nbconvert_exporter": "python",
   "pygments_lexer": "ipython3",
   "version": "3.11.0"
  }
 },
 "nbformat": 4,
 "nbformat_minor": 5
}
