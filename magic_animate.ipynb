{
  "nbformat": 4,
  "nbformat_minor": 0,
  "metadata": {
    "colab": {
      "provenance": [],
      "gpuType": "T4",
      "include_colab_link": true
    },
    "kernelspec": {
      "name": "python3",
      "display_name": "Python 3"
    },
    "language_info": {
      "name": "python"
    },
    "accelerator": "GPU"
  },
  "cells": [
    {
      "cell_type": "markdown",
      "metadata": {
        "id": "view-in-github",
        "colab_type": "text"
      },
      "source": [
        "<a href=\"https://colab.research.google.com/github/githubpradeep/notebooks/blob/main/magic_animate.ipynb\" target=\"_parent\"><img src=\"https://colab.research.google.com/assets/colab-badge.svg\" alt=\"Open In Colab\"/></a>"
      ]
    },
    {
      "cell_type": "markdown",
      "source": [
        "This colab is just for test.\n",
        "\n",
        "Here is main repo where you can find all necessary info about this project. https://github.com/magic-research/magic-animate"
      ],
      "metadata": {
        "id": "FhBl9SjpBzbh"
      }
    },
    {
      "cell_type": "code",
      "source": [
        "#@title Git clone repo and download all necessary models\n",
        "!git clone https://github.com/magic-research/magic-animate.git\n",
        "%cd magic-animate\n",
        "!pip3 install -r requirements.txt\n",
        "\n",
        "!mkdir pretrained_models\n",
        "%cd pretrained_models\n",
        "!mkdir sd-vae-ft-mse\n",
        "!mkdir stable-diffusion-v1-5\n",
        "!git lfs clone https://huggingface.co/zcxu-eric/MagicAnimate\n",
        "\n",
        "%cd sd-vae-ft-mse/\n",
        "!wget https://huggingface.co/stabilityai/sd-vae-ft-mse/resolve/main/diffusion_pytorch_model.safetensors\n",
        "!wget https://huggingface.co/stabilityai/sd-vae-ft-mse/resolve/main/diffusion_pytorch_model.bin\n",
        "!wget https://huggingface.co/stabilityai/sd-vae-ft-mse/resolve/main/config.json\n",
        "\n",
        "%cd /content/magic-animate/pretrained_models/stable-diffusion-v1-5\n",
        "!wget https://huggingface.co/runwayml/stable-diffusion-v1-5/resolve/main/v1-5-pruned-emaonly.safetensors\n",
        "!wget https://huggingface.co/runwayml/stable-diffusion-v1-5/resolve/main/model_index.json\n",
        "\n",
        "!mkdir tokenizer\n",
        "!mkdir text_encoder\n",
        "!mkdir unet\n",
        "!mkdir scheduler\n",
        "\n",
        "%cd /content/magic-animate/pretrained_models/stable-diffusion-v1-5/tokenizer\n",
        "!wget https://huggingface.co/runwayml/stable-diffusion-v1-5/resolve/main/tokenizer/vocab.json\n",
        "!wget https://huggingface.co/runwayml/stable-diffusion-v1-5/resolve/main/tokenizer/tokenizer_config.json\n",
        "!wget https://huggingface.co/runwayml/stable-diffusion-v1-5/resolve/main/tokenizer/special_tokens_map.json\n",
        "!wget https://huggingface.co/runwayml/stable-diffusion-v1-5/resolve/main/tokenizer/merges.txt\n",
        "\n",
        "%cd /content/magic-animate/pretrained_models/stable-diffusion-v1-5/text_encoder\n",
        "!wget https://huggingface.co/runwayml/stable-diffusion-v1-5/resolve/main/text_encoder/pytorch_model.bin\n",
        "!wget https://huggingface.co/runwayml/stable-diffusion-v1-5/resolve/main/text_encoder/config.json\\\n",
        "\n",
        "%cd /content/magic-animate/pretrained_models/stable-diffusion-v1-5/unet\n",
        "!wget https://huggingface.co/runwayml/stable-diffusion-v1-5/resolve/main/unet/config.json\n",
        "!wget https://huggingface.co/runwayml/stable-diffusion-v1-5/resolve/main/unet/diffusion_pytorch_model.bin\n",
        "\n",
        "%cd /content/magic-animate/pretrained_models/stable-diffusion-v1-5/scheduler\n",
        "!wget https://huggingface.co/runwayml/stable-diffusion-v1-5/resolve/main/scheduler/scheduler_config.json"
      ],
      "metadata": {
        "cellView": "form",
        "id": "LpQL4-Y-0qGH"
      },
      "execution_count": null,
      "outputs": []
    },
    {
      "cell_type": "code",
      "source": [
        "#@title Gradio run. Just clik on public link. It take ~15 minutes to create 1 animation clip\n",
        "%cd /content/magic-animate\n",
        "!python3 -m demo.gradio_animate"
      ],
      "metadata": {
        "colab": {
          "base_uri": "https://localhost:8080/"
        },
        "cellView": "form",
        "id": "Lq1GQdSw0-61",
        "outputId": "7894f94b-b815-4dc9-b0b0-dbe45f791743"
      },
      "execution_count": null,
      "outputs": [
        {
          "output_type": "stream",
          "name": "stdout",
          "text": [
            "/content/magic-animate\n",
            "2023-12-05 07:32:49.145657: E tensorflow/compiler/xla/stream_executor/cuda/cuda_dnn.cc:9342] Unable to register cuDNN factory: Attempting to register factory for plugin cuDNN when one has already been registered\n",
            "2023-12-05 07:32:49.145711: E tensorflow/compiler/xla/stream_executor/cuda/cuda_fft.cc:609] Unable to register cuFFT factory: Attempting to register factory for plugin cuFFT when one has already been registered\n",
            "2023-12-05 07:32:49.145748: E tensorflow/compiler/xla/stream_executor/cuda/cuda_blas.cc:1518] Unable to register cuBLAS factory: Attempting to register factory for plugin cuBLAS when one has already been registered\n",
            "2023-12-05 07:32:50.399738: W tensorflow/compiler/tf2tensorrt/utils/py_utils.cc:38] TF-TRT Warning: Could not find TensorRT\n",
            "/content/magic-animate/magicanimate/pipelines/pipeline_animation.py:43: FutureWarning: Importing `DiffusionPipeline` or `ImagePipelineOutput` from diffusers.pipeline_utils is deprecated. Please import from diffusers.pipelines.pipeline_utils instead.\n",
            "  from diffusers.pipeline_utils import DiffusionPipeline\n",
            "Initializing MagicAnimate Pipeline...\n",
            "loaded temporal unet's pretrained weights from pretrained_models/stable-diffusion-v1-5/unet ...\n",
            "### missing keys: 560; \n",
            "### unexpected keys: 0;\n",
            "### Temporal Module Parameters: 417.1376 M\n",
            "The config attributes {'addition_embed_type': None, 'addition_embed_type_num_heads': 64, 'addition_time_embed_dim': None, 'conditioning_channels': 3, 'encoder_hid_dim': None, 'encoder_hid_dim_type': None, 'global_pool_conditions': False, 'num_attention_heads': None, 'transformer_layers_per_block': 1} were passed to ControlNetModel, but are not expected and will be ignored. Please verify your config.json configuration file.\n",
            "It is recommended to provide `attention_head_dim` when calling `get_down_block`. Defaulting `attention_head_dim` to 8.\n",
            "It is recommended to provide `attention_head_dim` when calling `get_down_block`. Defaulting `attention_head_dim` to 8.\n",
            "It is recommended to provide `attention_head_dim` when calling `get_down_block`. Defaulting `attention_head_dim` to 8.\n",
            "It is recommended to provide `attention_head_dim` when calling `get_down_block`. Defaulting `attention_head_dim` to 8.\n",
            "/content/magic-animate/magicanimate/pipelines/pipeline_animation.py:103: FutureWarning: The configuration file of this scheduler: DDIMScheduler {\n",
            "  \"_class_name\": \"DDIMScheduler\",\n",
            "  \"_diffusers_version\": \"0.21.4\",\n",
            "  \"beta_end\": 0.012,\n",
            "  \"beta_schedule\": \"linear\",\n",
            "  \"beta_start\": 0.00085,\n",
            "  \"clip_sample\": true,\n",
            "  \"clip_sample_range\": 1.0,\n",
            "  \"dynamic_thresholding_ratio\": 0.995,\n",
            "  \"num_train_timesteps\": 1000,\n",
            "  \"prediction_type\": \"epsilon\",\n",
            "  \"rescale_betas_zero_snr\": false,\n",
            "  \"sample_max_value\": 1.0,\n",
            "  \"set_alpha_to_one\": true,\n",
            "  \"steps_offset\": 0,\n",
            "  \"thresholding\": false,\n",
            "  \"timestep_spacing\": \"leading\",\n",
            "  \"trained_betas\": null\n",
            "}\n",
            " is outdated. `steps_offset` should be set to 1 instead of 0. Please make sure to update the config accordingly as leaving `steps_offset` might led to incorrect results in future versions. If you have downloaded this checkpoint from the Hugging Face Hub, it would be very nice if you could open a Pull request for the `scheduler/scheduler_config.json` file\n",
            "  deprecate(\"steps_offset!=1\", \"1.0.0\", deprecation_message, standard_warn=False)\n",
            "/content/magic-animate/magicanimate/pipelines/pipeline_animation.py:116: FutureWarning: The configuration file of this scheduler: DDIMScheduler {\n",
            "  \"_class_name\": \"DDIMScheduler\",\n",
            "  \"_diffusers_version\": \"0.21.4\",\n",
            "  \"beta_end\": 0.012,\n",
            "  \"beta_schedule\": \"linear\",\n",
            "  \"beta_start\": 0.00085,\n",
            "  \"clip_sample\": true,\n",
            "  \"clip_sample_range\": 1.0,\n",
            "  \"dynamic_thresholding_ratio\": 0.995,\n",
            "  \"num_train_timesteps\": 1000,\n",
            "  \"prediction_type\": \"epsilon\",\n",
            "  \"rescale_betas_zero_snr\": false,\n",
            "  \"sample_max_value\": 1.0,\n",
            "  \"set_alpha_to_one\": true,\n",
            "  \"steps_offset\": 1,\n",
            "  \"thresholding\": false,\n",
            "  \"timestep_spacing\": \"leading\",\n",
            "  \"trained_betas\": null\n",
            "}\n",
            " has not set the configuration `clip_sample`. `clip_sample` should be set to False in the configuration file. Please make sure to update the config accordingly as not setting `clip_sample` in the config might lead to incorrect results in future versions. If you have downloaded this checkpoint from the Hugging Face Hub, it would be very nice if you could open a Pull request for the `scheduler/scheduler_config.json` file\n",
            "  deprecate(\"clip_sample not set\", \"1.0.0\", deprecation_message, standard_warn=False)\n",
            "Initialization Done!\n",
            "Running on local URL:  http://127.0.0.1:7860\n",
            "Running on public URL: https://3669665c1713176563.gradio.live\n",
            "\n",
            "This share link expires in 72 hours. For free permanent hosting and GPU upgrades, run `gradio deploy` from Terminal to deploy to Spaces (https://huggingface.co/spaces)\n",
            "/content/magic-animate/magicanimate/pipelines/pipeline_animation.py:624: FutureWarning: Accessing config attribute `in_channels` directly via 'UNet3DConditionModel' object attribute is deprecated. Please access 'in_channels' over 'UNet3DConditionModel's config object instead, e.g. 'unet.config.in_channels'.\n",
            "  num_channels_latents = self.unet.in_channels\n",
            "100% 25/25 [16:51<00:00, 40.46s/it]\n",
            "100% 112/112 [00:22<00:00,  5.08it/s]\n",
            "IMAGEIO FFMPEG_WRITER WARNING: input image is not divisible by macro_block_size=16, resizing from (1544, 516) to (1552, 528) to ensure video compatibility with most codecs and players. To prevent resizing, make your input image divisible by the macro_block_size or set the macro_block_size to 1 (risking incompatibility).\n",
            "\u001b[1;34m[swscaler @ 0x6a789c0] \u001b[0m\u001b[0;33mWarning: data is not aligned! This can lead to a speed loss\n",
            "\u001b[0m/content/magic-animate/magicanimate/pipelines/pipeline_animation.py:624: FutureWarning: Accessing config attribute `in_channels` directly via 'UNet3DConditionModel' object attribute is deprecated. Please access 'in_channels' over 'UNet3DConditionModel's config object instead, e.g. 'unet.config.in_channels'.\n",
            "  num_channels_latents = self.unet.in_channels\n",
            "100% 25/25 [16:55<00:00, 40.60s/it]\n",
            "100% 112/112 [00:21<00:00,  5.10it/s]\n",
            "IMAGEIO FFMPEG_WRITER WARNING: input image is not divisible by macro_block_size=16, resizing from (1544, 516) to (1552, 528) to ensure video compatibility with most codecs and players. To prevent resizing, make your input image divisible by the macro_block_size or set the macro_block_size to 1 (risking incompatibility).\n",
            "\u001b[1;34m[swscaler @ 0x72a99c0] \u001b[0m\u001b[0;33mWarning: data is not aligned! This can lead to a speed loss\n",
            "\u001b[0mKeyboard interruption in main thread... closing server.\n",
            "Traceback (most recent call last):\n",
            "  File \"/usr/local/lib/python3.10/dist-packages/gradio/blocks.py\", line 2199, in block_thread\n",
            "    time.sleep(0.1)\n",
            "KeyboardInterrupt\n",
            "\n",
            "During handling of the above exception, another exception occurred:\n",
            "\n",
            "Traceback (most recent call last):\n",
            "  File \"/usr/lib/python3.10/runpy.py\", line 196, in _run_module_as_main\n",
            "    return _run_code(code, main_globals, None,\n",
            "  File \"/usr/lib/python3.10/runpy.py\", line 86, in _run_code\n",
            "    exec(code, run_globals)\n",
            "  File \"/content/magic-animate/demo/gradio_animate.py\", line 97, in <module>\n",
            "    demo.launch(share=True)\n",
            "  File \"/usr/local/lib/python3.10/dist-packages/gradio/blocks.py\", line 2115, in launch\n",
            "    self.block_thread()\n",
            "  File \"/usr/local/lib/python3.10/dist-packages/gradio/blocks.py\", line 2203, in block_thread\n",
            "    self.server.close()\n",
            "  File \"/usr/local/lib/python3.10/dist-packages/gradio/networking.py\", line 49, in close\n",
            "    self.thread.join()\n",
            "  File \"/usr/lib/python3.10/threading.py\", line 1096, in join\n",
            "    self._wait_for_tstate_lock()\n",
            "  File \"/usr/lib/python3.10/threading.py\", line 1116, in _wait_for_tstate_lock\n",
            "    if lock.acquire(block, timeout):\n",
            "KeyboardInterrupt\n",
            "Killing tunnel 127.0.0.1:7860 <> https://3669665c1713176563.gradio.live\n",
            "^C\n"
          ]
        }
      ]
    },
    {
      "cell_type": "markdown",
      "source": [
        "Check results in"
      ],
      "metadata": {
        "id": "cUcFuxsr_ZCp"
      }
    },
    {
      "cell_type": "code",
      "source": [
        "|----magic-animate\n",
        "  |----demo\n",
        "    |----outputs\n",
        "      |----2023-12-05T07-53-47.mp4"
      ],
      "metadata": {
        "id": "ICiSCfL-x-IK"
      },
      "execution_count": null,
      "outputs": []
    }
  ]
}