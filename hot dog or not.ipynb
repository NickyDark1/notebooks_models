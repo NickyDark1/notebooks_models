{
 "cells": [
  {
   "cell_type": "code",
   "execution_count": 1,
   "id": "d2f54b6b",
   "metadata": {},
   "outputs": [],
   "source": [
    "import base64\n",
    "\n",
    "def image_to_base64(image_path):\n",
    "    with open(image_path, 'rb') as image_file:\n",
    "        encoded_string = base64.b64encode(image_file.read())\n",
    "        return encoded_string.decode('utf-8')\n",
    "\n",
    "import json"
   ]
  },
  {
   "cell_type": "code",
   "execution_count": 25,
   "id": "d09b0727",
   "metadata": {},
   "outputs": [],
   "source": [
    "def get_image_desc(image_path):\n",
    "    \n",
    "    base64_string = image_to_base64(image_path)\n",
    "    \n",
    "    import requests\n",
    "\n",
    "    url = \"http://localhost:11434/api/generate\"\n",
    "    data = {\n",
    "        \"model\": \"llava\",\n",
    "        \"prompt\": \"describe the food in the image?\",\n",
    "        \"stream\": False,\n",
    "        \"images\":[base64_string]\n",
    "    }\n",
    "    response = requests.post(url, data=json.dumps(data))\n",
    "    return response.json()['response']"
   ]
  },
  {
   "cell_type": "code",
   "execution_count": 3,
   "id": "3dcca103",
   "metadata": {},
   "outputs": [],
   "source": [
    "# Define your desired data structure.\n",
    "from langchain_community.llms import Ollama\n",
    "from typing import List\n",
    "\n",
    "from langchain.output_parsers import PydanticOutputParser\n",
    "from langchain.prompts import PromptTemplate\n",
    "from langchain_core.pydantic_v1 import BaseModel, Field, validator\n",
    "from langchain_openai import ChatOpenAI\n",
    "from langchain_core.messages import HumanMessage\n",
    "from langchain_mistralai.chat_models import ChatMistralAI\n",
    "\n",
    "class HotDog(BaseModel):\n",
    "    hot_dog_or_not: bool = Field(description=\"hot dog or not\")\n",
    "\n",
    "        \n",
    "class HotDogLLM:\n",
    "    def __init__(self, local=False):\n",
    "        \n",
    "        if local:\n",
    "            llm = Ollama(model=\"mistral:instruct\", temperature=0.1)\n",
    "        else:\n",
    "            llm = ChatMistralAI(mistral_api_key='', model = 'mistral-small')\n",
    "        parser = PydanticOutputParser(pydantic_object=HotDog)\n",
    "\n",
    "        prompt = PromptTemplate(\n",
    "            template=\"Answer the user query.\\n{format_instructions}\\n{query}\\n\",\n",
    "            input_variables=[\"query\"],\n",
    "            partial_variables={\"format_instructions\": parser.get_format_instructions()},\n",
    "        )\n",
    "        \n",
    "\n",
    "\n",
    "        chain = prompt | llm | parser\n",
    "        self.chain = chain\n",
    "    \n",
    "    def get(self, text):\n",
    "        c = 0\n",
    "        while c < 5:\n",
    "            try:\n",
    "               \n",
    "                ans = self.chain.invoke({\"query\": f'''You are a assistant who \n",
    "                should tell if the food mentioned in text {text} is hot dog or not'''})\n",
    "                \n",
    "                return ans\n",
    "            except:\n",
    "                pass\n",
    "            c+=1\n",
    "            \n"
   ]
  },
  {
   "cell_type": "code",
   "execution_count": 4,
   "id": "ffd9e5a3",
   "metadata": {},
   "outputs": [],
   "source": [
    "hd =HotDogLLM(local=True)"
   ]
  },
  {
   "cell_type": "code",
   "execution_count": null,
   "id": "0877e915",
   "metadata": {},
   "outputs": [
    {
     "name": "stdout",
     "output_type": "stream",
     "text": [
      "Running on local URL:  http://127.0.0.1:7860\n",
      "\n",
      "To create a public link, set `share=True` in `launch()`.\n"
     ]
    },
    {
     "data": {
      "text/html": [
       "<div><iframe src=\"http://127.0.0.1:7860/\" width=\"100%\" height=\"500\" allow=\"autoplay; camera; microphone; clipboard-read; clipboard-write;\" frameborder=\"0\" allowfullscreen></iframe></div>"
      ],
      "text/plain": [
       "<IPython.core.display.HTML object>"
      ]
     },
     "metadata": {},
     "output_type": "display_data"
    },
    {
     "name": "stdout",
     "output_type": "stream",
     "text": [
      " The image shows a hamburger with what appears to be a beef patty on a sesame seed bun. On top of the burger, there is a slice of tomato and a leaf of lettuce. A small amount of chopped onion is sprinkled on the patty, and it seems to be garnished with some sort of condiment or sauce, though the specific type isn't visible from this angle. The background suggests a casual dining setting, likely a restaurant or cafe. \n",
      " The image shows two hot dogs, each served on a bun. One of the hot dogs has been topped with traditional condiments, including what appears to be mustard and relish, along with diced white onions, sliced pickles, and chopped green herbs, which is likely parsley or cilantro. The other hot dog has been garnished with a variety of colorful toppings, including tomato slices, green leaves that could be lettuce or arugula mix, red onions, and what seems to be a dollop of mayonnaise. Both hot dogs are placed on a flat surface next to each other, and in the background, there is a side of french fries. The setting suggests that this is likely a prepared meal intended for consumption, possibly at a food event or restaurant specializing in hot dogs. \n",
      " The image shows a slice of pizza on a white plate. The pizza has a thick crust and is topped with tomato sauce, melted cheese that appears to be mozzarella, and slices of pepperoni. The toppings are distributed unevenly across the pizza slice, with some areas covered in more sauce or cheese than others. The crust looks golden-brown, suggesting it has been baked until crisp. The plate is placed on a surface with a checkered pattern, which could be a tablecloth or a place mat. There are no other food items visible in the image. \n",
      " The image shows two hot dogs on buns. Each hot dog is topped with a generous amount of mustard and ketchup, as well as pickles. They are placed on a wooden surface, possibly a cutting board or serving platter, in front of some French fries. The background suggests that the food is being presented for consumption, perhaps at a picnic, barbecue, or casual dining establishment. \n",
      " The image shows two hot dogs. Each hot dog is topped with mustard, onions, a pickle spear, and what appears to be ketchup or another red sauce. The buns are soft-looking, possibly freshly baked. The setting suggests that the photo was taken in a casual dining environment, as there's a wooden board under the hot dogs and some fries on the side. \n",
      " The image shows a slice of pizza on a white plate. The pizza appears to be a deep-dish style, with a thick crust and a generous layer of melted cheese that is browned in spots, indicating it's been cooked until crispy. On top of the cheese, there are slices of pepperoni, which look like they could be a spicy variety given their appearance. The pizza slice has a golden brown edge, suggesting it's freshly baked and still hot from the oven. The plate is set on a table with a checkered tablecloth visible in the background. \n",
      " The image shows a sandwich on a plate, which appears to be a beef burger. It is garnished with slices of tomato and lettuce, and the bun looks like it's toasted. The meat patty seems to be well-cooked and juicy, indicating it may have been grilled or cooked in a pan. There are also onions visible on the plate, likely added as part of the garnish. In the background, there is a glass with liquid that could be beer, and a blurred person holding what looks like a beer bottle. The focus of the image is on the burger, making it the main subject. \n"
     ]
    }
   ],
   "source": [
    "import gradio as gr\n",
    "import base64\n",
    "\n",
    "\n",
    "\n",
    "# Function that takes User Inputs and displays it on ChatUI\n",
    "def query_message(history,img):\n",
    "    if not img:\n",
    "        history += [(\"hi\",None)]\n",
    "        return history\n",
    "    desc = get_image_desc(img)\n",
    "    print(desc)\n",
    "    res = hd.get(desc)\n",
    "    base64_string = image_to_base64(img)\n",
    "    data_url = f\"data:image/jpeg;base64,{base64_string}\"\n",
    "    if not res or not res.hot_dog_or_not:\n",
    "        txt = \"Its not a hot dog\"\n",
    "    else:\n",
    "        txt = \"Its a hot dog\"\n",
    "        \n",
    "    history += [(f\"{txt} ![]({data_url})\", None)]\n",
    "    return history\n",
    "    \n",
    "# UI Code\n",
    "with gr.Blocks() as app:\n",
    "    with gr.Row():\n",
    "        image_box = gr.Image(type=\"filepath\")\n",
    "   \n",
    "        chatbot = gr.Chatbot(\n",
    "            scale = 2,\n",
    "            height=750\n",
    "        )\n",
    "\n",
    "\n",
    "    btn = gr.Button(\"Submit\")\n",
    "    clicked = btn.click(query_message,\n",
    "                        [chatbot,image_box],\n",
    "                        chatbot\n",
    "                        )\n",
    "app.queue()\n",
    "app.launch(debug=True)"
   ]
  },
  {
   "cell_type": "code",
   "execution_count": null,
   "id": "f732dbfb",
   "metadata": {},
   "outputs": [],
   "source": []
  }
 ],
 "metadata": {
  "kernelspec": {
   "display_name": "cv",
   "language": "python",
   "name": "cv"
  },
  "language_info": {
   "codemirror_mode": {
    "name": "ipython",
    "version": 3
   },
   "file_extension": ".py",
   "mimetype": "text/x-python",
   "name": "python",
   "nbconvert_exporter": "python",
   "pygments_lexer": "ipython3",
   "version": "3.11.0"
  }
 },
 "nbformat": 4,
 "nbformat_minor": 5
}
